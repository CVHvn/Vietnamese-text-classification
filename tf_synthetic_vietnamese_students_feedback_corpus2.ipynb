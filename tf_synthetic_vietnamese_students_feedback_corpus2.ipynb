{
  "cells": [
    {
      "cell_type": "markdown",
      "id": "71b1be2a",
      "metadata": {
        "_cell_guid": "b1076dfc-b9ad-4769-8c92-a6c4dae69d19",
        "_uuid": "8f2839f25d086af736a60e9eeb907d3b93b6e0e5",
        "papermill": {
          "duration": 0.017866,
          "end_time": "2024-07-18T05:10:44.869598",
          "exception": false,
          "start_time": "2024-07-18T05:10:44.851732",
          "status": "completed"
        },
        "tags": [],
        "id": "71b1be2a"
      },
      "source": [
        "# Install library"
      ]
    },
    {
      "cell_type": "code",
      "execution_count": null,
      "id": "3b15ff42",
      "metadata": {
        "execution": {
          "iopub.execute_input": "2024-07-18T05:10:44.906999Z",
          "iopub.status.busy": "2024-07-18T05:10:44.906234Z",
          "iopub.status.idle": "2024-07-18T05:11:23.901784Z",
          "shell.execute_reply": "2024-07-18T05:11:23.900643Z"
        },
        "papermill": {
          "duration": 39.017332,
          "end_time": "2024-07-18T05:11:23.904493",
          "exception": false,
          "start_time": "2024-07-18T05:10:44.887161",
          "status": "completed"
        },
        "tags": [],
        "id": "3b15ff42",
        "outputId": "42b30bfe-b57b-4fbf-b043-8c4d873ff84e"
      },
      "outputs": [
        {
          "name": "stdout",
          "output_type": "stream",
          "text": [
            "Requirement already satisfied: tensorflow==2.15.0 in /opt/conda/lib/python3.10/site-packages (2.15.0)\r\n",
            "Requirement already satisfied: absl-py>=1.0.0 in /opt/conda/lib/python3.10/site-packages (from tensorflow==2.15.0) (1.4.0)\r\n",
            "Requirement already satisfied: astunparse>=1.6.0 in /opt/conda/lib/python3.10/site-packages (from tensorflow==2.15.0) (1.6.3)\r\n",
            "Requirement already satisfied: flatbuffers>=23.5.26 in /opt/conda/lib/python3.10/site-packages (from tensorflow==2.15.0) (23.5.26)\r\n",
            "Requirement already satisfied: gast!=0.5.0,!=0.5.1,!=0.5.2,>=0.2.1 in /opt/conda/lib/python3.10/site-packages (from tensorflow==2.15.0) (0.5.4)\r\n",
            "Requirement already satisfied: google-pasta>=0.1.1 in /opt/conda/lib/python3.10/site-packages (from tensorflow==2.15.0) (0.2.0)\r\n",
            "Requirement already satisfied: h5py>=2.9.0 in /opt/conda/lib/python3.10/site-packages (from tensorflow==2.15.0) (3.10.0)\r\n",
            "Requirement already satisfied: libclang>=13.0.0 in /opt/conda/lib/python3.10/site-packages (from tensorflow==2.15.0) (16.0.6)\r\n",
            "Requirement already satisfied: ml-dtypes~=0.2.0 in /opt/conda/lib/python3.10/site-packages (from tensorflow==2.15.0) (0.2.0)\r\n",
            "Requirement already satisfied: numpy<2.0.0,>=1.23.5 in /opt/conda/lib/python3.10/site-packages (from tensorflow==2.15.0) (1.26.4)\r\n",
            "Requirement already satisfied: opt-einsum>=2.3.2 in /opt/conda/lib/python3.10/site-packages (from tensorflow==2.15.0) (3.3.0)\r\n",
            "Requirement already satisfied: packaging in /opt/conda/lib/python3.10/site-packages (from tensorflow==2.15.0) (21.3)\r\n",
            "Requirement already satisfied: protobuf!=4.21.0,!=4.21.1,!=4.21.2,!=4.21.3,!=4.21.4,!=4.21.5,<5.0.0dev,>=3.20.3 in /opt/conda/lib/python3.10/site-packages (from tensorflow==2.15.0) (3.20.3)\r\n",
            "Requirement already satisfied: setuptools in /opt/conda/lib/python3.10/site-packages (from tensorflow==2.15.0) (69.0.3)\r\n",
            "Requirement already satisfied: six>=1.12.0 in /opt/conda/lib/python3.10/site-packages (from tensorflow==2.15.0) (1.16.0)\r\n",
            "Requirement already satisfied: termcolor>=1.1.0 in /opt/conda/lib/python3.10/site-packages (from tensorflow==2.15.0) (2.4.0)\r\n",
            "Requirement already satisfied: typing-extensions>=3.6.6 in /opt/conda/lib/python3.10/site-packages (from tensorflow==2.15.0) (4.9.0)\r\n",
            "Requirement already satisfied: wrapt<1.15,>=1.11.0 in /opt/conda/lib/python3.10/site-packages (from tensorflow==2.15.0) (1.14.1)\r\n",
            "Requirement already satisfied: tensorflow-io-gcs-filesystem>=0.23.1 in /opt/conda/lib/python3.10/site-packages (from tensorflow==2.15.0) (0.35.0)\r\n",
            "Requirement already satisfied: grpcio<2.0,>=1.24.3 in /opt/conda/lib/python3.10/site-packages (from tensorflow==2.15.0) (1.60.0)\r\n",
            "Requirement already satisfied: tensorboard<2.16,>=2.15 in /opt/conda/lib/python3.10/site-packages (from tensorflow==2.15.0) (2.15.1)\r\n",
            "Requirement already satisfied: tensorflow-estimator<2.16,>=2.15.0 in /opt/conda/lib/python3.10/site-packages (from tensorflow==2.15.0) (2.15.0)\r\n",
            "Collecting keras<2.16,>=2.15.0 (from tensorflow==2.15.0)\r\n",
            "  Downloading keras-2.15.0-py3-none-any.whl.metadata (2.4 kB)\r\n",
            "Requirement already satisfied: wheel<1.0,>=0.23.0 in /opt/conda/lib/python3.10/site-packages (from astunparse>=1.6.0->tensorflow==2.15.0) (0.42.0)\r\n",
            "Requirement already satisfied: google-auth<3,>=1.6.3 in /opt/conda/lib/python3.10/site-packages (from tensorboard<2.16,>=2.15->tensorflow==2.15.0) (2.26.1)\r\n",
            "Requirement already satisfied: google-auth-oauthlib<2,>=0.5 in /opt/conda/lib/python3.10/site-packages (from tensorboard<2.16,>=2.15->tensorflow==2.15.0) (1.2.0)\r\n",
            "Requirement already satisfied: markdown>=2.6.8 in /opt/conda/lib/python3.10/site-packages (from tensorboard<2.16,>=2.15->tensorflow==2.15.0) (3.5.2)\r\n",
            "Requirement already satisfied: requests<3,>=2.21.0 in /opt/conda/lib/python3.10/site-packages (from tensorboard<2.16,>=2.15->tensorflow==2.15.0) (2.32.3)\r\n",
            "Requirement already satisfied: tensorboard-data-server<0.8.0,>=0.7.0 in /opt/conda/lib/python3.10/site-packages (from tensorboard<2.16,>=2.15->tensorflow==2.15.0) (0.7.2)\r\n",
            "Requirement already satisfied: werkzeug>=1.0.1 in /opt/conda/lib/python3.10/site-packages (from tensorboard<2.16,>=2.15->tensorflow==2.15.0) (3.0.3)\r\n",
            "Requirement already satisfied: pyparsing!=3.0.5,>=2.0.2 in /opt/conda/lib/python3.10/site-packages (from packaging->tensorflow==2.15.0) (3.1.1)\r\n",
            "Requirement already satisfied: cachetools<6.0,>=2.0.0 in /opt/conda/lib/python3.10/site-packages (from google-auth<3,>=1.6.3->tensorboard<2.16,>=2.15->tensorflow==2.15.0) (4.2.4)\r\n",
            "Requirement already satisfied: pyasn1-modules>=0.2.1 in /opt/conda/lib/python3.10/site-packages (from google-auth<3,>=1.6.3->tensorboard<2.16,>=2.15->tensorflow==2.15.0) (0.3.0)\r\n",
            "Requirement already satisfied: rsa<5,>=3.1.4 in /opt/conda/lib/python3.10/site-packages (from google-auth<3,>=1.6.3->tensorboard<2.16,>=2.15->tensorflow==2.15.0) (4.9)\r\n",
            "Requirement already satisfied: requests-oauthlib>=0.7.0 in /opt/conda/lib/python3.10/site-packages (from google-auth-oauthlib<2,>=0.5->tensorboard<2.16,>=2.15->tensorflow==2.15.0) (1.3.1)\r\n",
            "Requirement already satisfied: charset-normalizer<4,>=2 in /opt/conda/lib/python3.10/site-packages (from requests<3,>=2.21.0->tensorboard<2.16,>=2.15->tensorflow==2.15.0) (3.3.2)\r\n",
            "Requirement already satisfied: idna<4,>=2.5 in /opt/conda/lib/python3.10/site-packages (from requests<3,>=2.21.0->tensorboard<2.16,>=2.15->tensorflow==2.15.0) (3.6)\r\n",
            "Requirement already satisfied: urllib3<3,>=1.21.1 in /opt/conda/lib/python3.10/site-packages (from requests<3,>=2.21.0->tensorboard<2.16,>=2.15->tensorflow==2.15.0) (1.26.18)\r\n",
            "Requirement already satisfied: certifi>=2017.4.17 in /opt/conda/lib/python3.10/site-packages (from requests<3,>=2.21.0->tensorboard<2.16,>=2.15->tensorflow==2.15.0) (2024.7.4)\r\n",
            "Requirement already satisfied: MarkupSafe>=2.1.1 in /opt/conda/lib/python3.10/site-packages (from werkzeug>=1.0.1->tensorboard<2.16,>=2.15->tensorflow==2.15.0) (2.1.3)\r\n",
            "Requirement already satisfied: pyasn1<0.6.0,>=0.4.6 in /opt/conda/lib/python3.10/site-packages (from pyasn1-modules>=0.2.1->google-auth<3,>=1.6.3->tensorboard<2.16,>=2.15->tensorflow==2.15.0) (0.5.1)\r\n",
            "Requirement already satisfied: oauthlib>=3.0.0 in /opt/conda/lib/python3.10/site-packages (from requests-oauthlib>=0.7.0->google-auth-oauthlib<2,>=0.5->tensorboard<2.16,>=2.15->tensorflow==2.15.0) (3.2.2)\r\n",
            "Downloading keras-2.15.0-py3-none-any.whl (1.7 MB)\r\n",
            "\u001b[2K   \u001b[90m━━━━━━━━━━━━━━━━━━━━━━━━━━━━━━━━━━━━━━━━\u001b[0m \u001b[32m1.7/1.7 MB\u001b[0m \u001b[31m18.3 MB/s\u001b[0m eta \u001b[36m0:00:00\u001b[0m\r\n",
            "\u001b[?25hInstalling collected packages: keras\r\n",
            "  Attempting uninstall: keras\r\n",
            "    Found existing installation: keras 3.4.1\r\n",
            "    Uninstalling keras-3.4.1:\r\n",
            "      Successfully uninstalled keras-3.4.1\r\n",
            "\u001b[31mERROR: pip's dependency resolver does not currently take into account all the packages that are installed. This behaviour is the source of the following dependency conflicts.\r\n",
            "tensorflow-decision-forests 1.8.1 requires wurlitzer, which is not installed.\u001b[0m\u001b[31m\r\n",
            "\u001b[0mSuccessfully installed keras-2.15.0\r\n",
            "Collecting tf-models-official==2.15.0\r\n",
            "  Downloading tf_models_official-2.15.0-py2.py3-none-any.whl.metadata (1.4 kB)\r\n",
            "Requirement already satisfied: Cython in /opt/conda/lib/python3.10/site-packages (from tf-models-official==2.15.0) (3.0.8)\r\n",
            "Requirement already satisfied: Pillow in /opt/conda/lib/python3.10/site-packages (from tf-models-official==2.15.0) (9.5.0)\r\n",
            "Collecting gin-config (from tf-models-official==2.15.0)\r\n",
            "  Downloading gin_config-0.5.0-py3-none-any.whl.metadata (2.9 kB)\r\n",
            "Requirement already satisfied: google-api-python-client>=1.6.7 in /opt/conda/lib/python3.10/site-packages (from tf-models-official==2.15.0) (2.136.0)\r\n",
            "Collecting immutabledict (from tf-models-official==2.15.0)\r\n",
            "  Downloading immutabledict-4.2.0-py3-none-any.whl.metadata (3.4 kB)\r\n",
            "Requirement already satisfied: kaggle>=1.3.9 in /opt/conda/lib/python3.10/site-packages (from tf-models-official==2.15.0) (1.6.14)\r\n",
            "Requirement already satisfied: matplotlib in /opt/conda/lib/python3.10/site-packages (from tf-models-official==2.15.0) (3.7.5)\r\n",
            "Requirement already satisfied: numpy>=1.20 in /opt/conda/lib/python3.10/site-packages (from tf-models-official==2.15.0) (1.26.4)\r\n",
            "Requirement already satisfied: oauth2client in /opt/conda/lib/python3.10/site-packages (from tf-models-official==2.15.0) (4.1.3)\r\n",
            "Requirement already satisfied: opencv-python-headless in /opt/conda/lib/python3.10/site-packages (from tf-models-official==2.15.0) (4.10.0.84)\r\n",
            "Requirement already satisfied: pandas>=0.22.0 in /opt/conda/lib/python3.10/site-packages (from tf-models-official==2.15.0) (2.2.2)\r\n",
            "Requirement already satisfied: psutil>=5.4.3 in /opt/conda/lib/python3.10/site-packages (from tf-models-official==2.15.0) (5.9.3)\r\n",
            "Requirement already satisfied: py-cpuinfo>=3.3.0 in /opt/conda/lib/python3.10/site-packages (from tf-models-official==2.15.0) (9.0.0)\r\n",
            "Collecting pycocotools (from tf-models-official==2.15.0)\r\n",
            "  Downloading pycocotools-2.0.8-cp310-cp310-manylinux_2_17_x86_64.manylinux2014_x86_64.whl.metadata (1.1 kB)\r\n",
            "Requirement already satisfied: pyyaml>=6.0.0 in /opt/conda/lib/python3.10/site-packages (from tf-models-official==2.15.0) (6.0.1)\r\n",
            "Collecting sacrebleu (from tf-models-official==2.15.0)\r\n",
            "  Downloading sacrebleu-2.4.2-py3-none-any.whl.metadata (58 kB)\r\n",
            "\u001b[2K     \u001b[90m━━━━━━━━━━━━━━━━━━━━━━━━━━━━━━━━━━━━━━━━\u001b[0m \u001b[32m58.0/58.0 kB\u001b[0m \u001b[31m1.9 MB/s\u001b[0m eta \u001b[36m0:00:00\u001b[0m\r\n",
            "\u001b[?25hRequirement already satisfied: scipy>=0.19.1 in /opt/conda/lib/python3.10/site-packages (from tf-models-official==2.15.0) (1.11.4)\r\n",
            "Requirement already satisfied: sentencepiece in /opt/conda/lib/python3.10/site-packages (from tf-models-official==2.15.0) (0.2.0)\r\n",
            "Collecting seqeval (from tf-models-official==2.15.0)\r\n",
            "  Downloading seqeval-1.2.2.tar.gz (43 kB)\r\n",
            "\u001b[2K     \u001b[90m━━━━━━━━━━━━━━━━━━━━━━━━━━━━━━━━━━━━━━━━\u001b[0m \u001b[32m43.6/43.6 kB\u001b[0m \u001b[31m3.0 MB/s\u001b[0m eta \u001b[36m0:00:00\u001b[0m\r\n",
            "\u001b[?25h  Preparing metadata (setup.py) ... \u001b[?25l-\b \b\\\b \b|\b \bdone\r\n",
            "\u001b[?25hRequirement already satisfied: six in /opt/conda/lib/python3.10/site-packages (from tf-models-official==2.15.0) (1.16.0)\r\n",
            "Requirement already satisfied: tensorflow-datasets in /opt/conda/lib/python3.10/site-packages (from tf-models-official==2.15.0) (4.9.4)\r\n",
            "Requirement already satisfied: tensorflow-hub>=0.6.0 in /opt/conda/lib/python3.10/site-packages (from tf-models-official==2.15.0) (0.16.1)\r\n",
            "Collecting tensorflow-model-optimization>=0.4.1 (from tf-models-official==2.15.0)\r\n",
            "  Downloading tensorflow_model_optimization-0.8.0-py2.py3-none-any.whl.metadata (904 bytes)\r\n",
            "Requirement already satisfied: tensorflow-text~=2.15.0 in /opt/conda/lib/python3.10/site-packages (from tf-models-official==2.15.0) (2.15.0)\r\n",
            "Requirement already satisfied: tensorflow~=2.15.0 in /opt/conda/lib/python3.10/site-packages (from tf-models-official==2.15.0) (2.15.0)\r\n",
            "Collecting tf-slim>=1.1.0 (from tf-models-official==2.15.0)\r\n",
            "  Downloading tf_slim-1.1.0-py2.py3-none-any.whl.metadata (1.6 kB)\r\n",
            "Requirement already satisfied: httplib2<1.dev0,>=0.19.0 in /opt/conda/lib/python3.10/site-packages (from google-api-python-client>=1.6.7->tf-models-official==2.15.0) (0.21.0)\r\n",
            "Requirement already satisfied: google-auth!=2.24.0,!=2.25.0,<3.0.0.dev0,>=1.32.0 in /opt/conda/lib/python3.10/site-packages (from google-api-python-client>=1.6.7->tf-models-official==2.15.0) (2.26.1)\r\n",
            "Requirement already satisfied: google-auth-httplib2<1.0.0,>=0.2.0 in /opt/conda/lib/python3.10/site-packages (from google-api-python-client>=1.6.7->tf-models-official==2.15.0) (0.2.0)\r\n",
            "Requirement already satisfied: google-api-core!=2.0.*,!=2.1.*,!=2.2.*,!=2.3.0,<3.0.0.dev0,>=1.31.5 in /opt/conda/lib/python3.10/site-packages (from google-api-python-client>=1.6.7->tf-models-official==2.15.0) (2.11.1)\r\n",
            "Requirement already satisfied: uritemplate<5,>=3.0.1 in /opt/conda/lib/python3.10/site-packages (from google-api-python-client>=1.6.7->tf-models-official==2.15.0) (3.0.1)\r\n",
            "Requirement already satisfied: certifi>=2023.7.22 in /opt/conda/lib/python3.10/site-packages (from kaggle>=1.3.9->tf-models-official==2.15.0) (2024.7.4)\r\n",
            "Requirement already satisfied: python-dateutil in /opt/conda/lib/python3.10/site-packages (from kaggle>=1.3.9->tf-models-official==2.15.0) (2.9.0.post0)\r\n",
            "Requirement already satisfied: requests in /opt/conda/lib/python3.10/site-packages (from kaggle>=1.3.9->tf-models-official==2.15.0) (2.32.3)\r\n",
            "Requirement already satisfied: tqdm in /opt/conda/lib/python3.10/site-packages (from kaggle>=1.3.9->tf-models-official==2.15.0) (4.66.4)\r\n",
            "Requirement already satisfied: python-slugify in /opt/conda/lib/python3.10/site-packages (from kaggle>=1.3.9->tf-models-official==2.15.0) (8.0.4)\r\n",
            "Requirement already satisfied: urllib3 in /opt/conda/lib/python3.10/site-packages (from kaggle>=1.3.9->tf-models-official==2.15.0) (1.26.18)\r\n",
            "Requirement already satisfied: bleach in /opt/conda/lib/python3.10/site-packages (from kaggle>=1.3.9->tf-models-official==2.15.0) (6.1.0)\r\n",
            "Requirement already satisfied: pytz>=2020.1 in /opt/conda/lib/python3.10/site-packages (from pandas>=0.22.0->tf-models-official==2.15.0) (2023.3.post1)\r\n",
            "Requirement already satisfied: tzdata>=2022.7 in /opt/conda/lib/python3.10/site-packages (from pandas>=0.22.0->tf-models-official==2.15.0) (2023.4)\r\n",
            "Requirement already satisfied: absl-py>=1.0.0 in /opt/conda/lib/python3.10/site-packages (from tensorflow~=2.15.0->tf-models-official==2.15.0) (1.4.0)\r\n",
            "Requirement already satisfied: astunparse>=1.6.0 in /opt/conda/lib/python3.10/site-packages (from tensorflow~=2.15.0->tf-models-official==2.15.0) (1.6.3)\r\n",
            "Requirement already satisfied: flatbuffers>=23.5.26 in /opt/conda/lib/python3.10/site-packages (from tensorflow~=2.15.0->tf-models-official==2.15.0) (23.5.26)\r\n",
            "Requirement already satisfied: gast!=0.5.0,!=0.5.1,!=0.5.2,>=0.2.1 in /opt/conda/lib/python3.10/site-packages (from tensorflow~=2.15.0->tf-models-official==2.15.0) (0.5.4)\r\n",
            "Requirement already satisfied: google-pasta>=0.1.1 in /opt/conda/lib/python3.10/site-packages (from tensorflow~=2.15.0->tf-models-official==2.15.0) (0.2.0)\r\n",
            "Requirement already satisfied: h5py>=2.9.0 in /opt/conda/lib/python3.10/site-packages (from tensorflow~=2.15.0->tf-models-official==2.15.0) (3.10.0)\r\n",
            "Requirement already satisfied: libclang>=13.0.0 in /opt/conda/lib/python3.10/site-packages (from tensorflow~=2.15.0->tf-models-official==2.15.0) (16.0.6)\r\n",
            "Requirement already satisfied: ml-dtypes~=0.2.0 in /opt/conda/lib/python3.10/site-packages (from tensorflow~=2.15.0->tf-models-official==2.15.0) (0.2.0)\r\n",
            "Requirement already satisfied: opt-einsum>=2.3.2 in /opt/conda/lib/python3.10/site-packages (from tensorflow~=2.15.0->tf-models-official==2.15.0) (3.3.0)\r\n",
            "Requirement already satisfied: packaging in /opt/conda/lib/python3.10/site-packages (from tensorflow~=2.15.0->tf-models-official==2.15.0) (21.3)\r\n",
            "Requirement already satisfied: protobuf!=4.21.0,!=4.21.1,!=4.21.2,!=4.21.3,!=4.21.4,!=4.21.5,<5.0.0dev,>=3.20.3 in /opt/conda/lib/python3.10/site-packages (from tensorflow~=2.15.0->tf-models-official==2.15.0) (3.20.3)\r\n",
            "Requirement already satisfied: setuptools in /opt/conda/lib/python3.10/site-packages (from tensorflow~=2.15.0->tf-models-official==2.15.0) (69.0.3)\r\n",
            "Requirement already satisfied: termcolor>=1.1.0 in /opt/conda/lib/python3.10/site-packages (from tensorflow~=2.15.0->tf-models-official==2.15.0) (2.4.0)\r\n",
            "Requirement already satisfied: typing-extensions>=3.6.6 in /opt/conda/lib/python3.10/site-packages (from tensorflow~=2.15.0->tf-models-official==2.15.0) (4.9.0)\r\n",
            "Requirement already satisfied: wrapt<1.15,>=1.11.0 in /opt/conda/lib/python3.10/site-packages (from tensorflow~=2.15.0->tf-models-official==2.15.0) (1.14.1)\r\n",
            "Requirement already satisfied: tensorflow-io-gcs-filesystem>=0.23.1 in /opt/conda/lib/python3.10/site-packages (from tensorflow~=2.15.0->tf-models-official==2.15.0) (0.35.0)\r\n",
            "Requirement already satisfied: grpcio<2.0,>=1.24.3 in /opt/conda/lib/python3.10/site-packages (from tensorflow~=2.15.0->tf-models-official==2.15.0) (1.60.0)\r\n",
            "Requirement already satisfied: tensorboard<2.16,>=2.15 in /opt/conda/lib/python3.10/site-packages (from tensorflow~=2.15.0->tf-models-official==2.15.0) (2.15.1)\r\n",
            "Requirement already satisfied: tensorflow-estimator<2.16,>=2.15.0 in /opt/conda/lib/python3.10/site-packages (from tensorflow~=2.15.0->tf-models-official==2.15.0) (2.15.0)\r\n",
            "Requirement already satisfied: keras<2.16,>=2.15.0 in /opt/conda/lib/python3.10/site-packages (from tensorflow~=2.15.0->tf-models-official==2.15.0) (2.15.0)\r\n",
            "Requirement already satisfied: tf-keras>=2.14.1 in /opt/conda/lib/python3.10/site-packages (from tensorflow-hub>=0.6.0->tf-models-official==2.15.0) (2.15.1)\r\n",
            "Requirement already satisfied: dm-tree~=0.1.1 in /opt/conda/lib/python3.10/site-packages (from tensorflow-model-optimization>=0.4.1->tf-models-official==2.15.0) (0.1.8)\r\n",
            "Requirement already satisfied: contourpy>=1.0.1 in /opt/conda/lib/python3.10/site-packages (from matplotlib->tf-models-official==2.15.0) (1.2.0)\r\n",
            "Requirement already satisfied: cycler>=0.10 in /opt/conda/lib/python3.10/site-packages (from matplotlib->tf-models-official==2.15.0) (0.12.1)\r\n",
            "Requirement already satisfied: fonttools>=4.22.0 in /opt/conda/lib/python3.10/site-packages (from matplotlib->tf-models-official==2.15.0) (4.47.0)\r\n",
            "Requirement already satisfied: kiwisolver>=1.0.1 in /opt/conda/lib/python3.10/site-packages (from matplotlib->tf-models-official==2.15.0) (1.4.5)\r\n",
            "Requirement already satisfied: pyparsing>=2.3.1 in /opt/conda/lib/python3.10/site-packages (from matplotlib->tf-models-official==2.15.0) (3.1.1)\r\n",
            "Requirement already satisfied: pyasn1>=0.1.7 in /opt/conda/lib/python3.10/site-packages (from oauth2client->tf-models-official==2.15.0) (0.5.1)\r\n",
            "Requirement already satisfied: pyasn1-modules>=0.0.5 in /opt/conda/lib/python3.10/site-packages (from oauth2client->tf-models-official==2.15.0) (0.3.0)\r\n",
            "Requirement already satisfied: rsa>=3.1.4 in /opt/conda/lib/python3.10/site-packages (from oauth2client->tf-models-official==2.15.0) (4.9)\r\n",
            "Collecting portalocker (from sacrebleu->tf-models-official==2.15.0)\r\n",
            "  Downloading portalocker-2.10.1-py3-none-any.whl.metadata (8.5 kB)\r\n",
            "Requirement already satisfied: regex in /opt/conda/lib/python3.10/site-packages (from sacrebleu->tf-models-official==2.15.0) (2023.12.25)\r\n",
            "Requirement already satisfied: tabulate>=0.8.9 in /opt/conda/lib/python3.10/site-packages (from sacrebleu->tf-models-official==2.15.0) (0.9.0)\r\n",
            "Requirement already satisfied: colorama in /opt/conda/lib/python3.10/site-packages (from sacrebleu->tf-models-official==2.15.0) (0.4.6)\r\n",
            "Requirement already satisfied: lxml in /opt/conda/lib/python3.10/site-packages (from sacrebleu->tf-models-official==2.15.0) (5.2.2)\r\n",
            "Requirement already satisfied: scikit-learn>=0.21.3 in /opt/conda/lib/python3.10/site-packages (from seqeval->tf-models-official==2.15.0) (1.2.2)\r\n",
            "Requirement already satisfied: click in /opt/conda/lib/python3.10/site-packages (from tensorflow-datasets->tf-models-official==2.15.0) (8.1.7)\r\n",
            "Requirement already satisfied: etils>=0.9.0 in /opt/conda/lib/python3.10/site-packages (from etils[enp,epath,etree]>=0.9.0->tensorflow-datasets->tf-models-official==2.15.0) (1.6.0)\r\n",
            "Requirement already satisfied: promise in /opt/conda/lib/python3.10/site-packages (from tensorflow-datasets->tf-models-official==2.15.0) (2.3)\r\n",
            "Requirement already satisfied: tensorflow-metadata in /opt/conda/lib/python3.10/site-packages (from tensorflow-datasets->tf-models-official==2.15.0) (0.14.0)\r\n",
            "Requirement already satisfied: toml in /opt/conda/lib/python3.10/site-packages (from tensorflow-datasets->tf-models-official==2.15.0) (0.10.2)\r\n",
            "Requirement already satisfied: array-record>=0.5.0 in /opt/conda/lib/python3.10/site-packages (from tensorflow-datasets->tf-models-official==2.15.0) (0.5.0)\r\n",
            "Requirement already satisfied: wheel<1.0,>=0.23.0 in /opt/conda/lib/python3.10/site-packages (from astunparse>=1.6.0->tensorflow~=2.15.0->tf-models-official==2.15.0) (0.42.0)\r\n",
            "Requirement already satisfied: fsspec in /opt/conda/lib/python3.10/site-packages (from etils[enp,epath,etree]>=0.9.0->tensorflow-datasets->tf-models-official==2.15.0) (2024.5.0)\r\n",
            "Requirement already satisfied: importlib_resources in /opt/conda/lib/python3.10/site-packages (from etils[enp,epath,etree]>=0.9.0->tensorflow-datasets->tf-models-official==2.15.0) (6.1.1)\r\n",
            "Requirement already satisfied: zipp in /opt/conda/lib/python3.10/site-packages (from etils[enp,epath,etree]>=0.9.0->tensorflow-datasets->tf-models-official==2.15.0) (3.17.0)\r\n",
            "Requirement already satisfied: googleapis-common-protos<2.0.dev0,>=1.56.2 in /opt/conda/lib/python3.10/site-packages (from google-api-core!=2.0.*,!=2.1.*,!=2.2.*,!=2.3.0,<3.0.0.dev0,>=1.31.5->google-api-python-client>=1.6.7->tf-models-official==2.15.0) (1.62.0)\r\n",
            "Requirement already satisfied: cachetools<6.0,>=2.0.0 in /opt/conda/lib/python3.10/site-packages (from google-auth!=2.24.0,!=2.25.0,<3.0.0.dev0,>=1.32.0->google-api-python-client>=1.6.7->tf-models-official==2.15.0) (4.2.4)\r\n",
            "Requirement already satisfied: charset-normalizer<4,>=2 in /opt/conda/lib/python3.10/site-packages (from requests->kaggle>=1.3.9->tf-models-official==2.15.0) (3.3.2)\r\n",
            "Requirement already satisfied: idna<4,>=2.5 in /opt/conda/lib/python3.10/site-packages (from requests->kaggle>=1.3.9->tf-models-official==2.15.0) (3.6)\r\n",
            "Requirement already satisfied: joblib>=1.1.1 in /opt/conda/lib/python3.10/site-packages (from scikit-learn>=0.21.3->seqeval->tf-models-official==2.15.0) (1.4.2)\r\n",
            "Requirement already satisfied: threadpoolctl>=2.0.0 in /opt/conda/lib/python3.10/site-packages (from scikit-learn>=0.21.3->seqeval->tf-models-official==2.15.0) (3.2.0)\r\n",
            "Requirement already satisfied: google-auth-oauthlib<2,>=0.5 in /opt/conda/lib/python3.10/site-packages (from tensorboard<2.16,>=2.15->tensorflow~=2.15.0->tf-models-official==2.15.0) (1.2.0)\r\n",
            "Requirement already satisfied: markdown>=2.6.8 in /opt/conda/lib/python3.10/site-packages (from tensorboard<2.16,>=2.15->tensorflow~=2.15.0->tf-models-official==2.15.0) (3.5.2)\r\n",
            "Requirement already satisfied: tensorboard-data-server<0.8.0,>=0.7.0 in /opt/conda/lib/python3.10/site-packages (from tensorboard<2.16,>=2.15->tensorflow~=2.15.0->tf-models-official==2.15.0) (0.7.2)\r\n",
            "Requirement already satisfied: werkzeug>=1.0.1 in /opt/conda/lib/python3.10/site-packages (from tensorboard<2.16,>=2.15->tensorflow~=2.15.0->tf-models-official==2.15.0) (3.0.3)\r\n",
            "Requirement already satisfied: webencodings in /opt/conda/lib/python3.10/site-packages (from bleach->kaggle>=1.3.9->tf-models-official==2.15.0) (0.5.1)\r\n",
            "Requirement already satisfied: text-unidecode>=1.3 in /opt/conda/lib/python3.10/site-packages (from python-slugify->kaggle>=1.3.9->tf-models-official==2.15.0) (1.3)\r\n",
            "Requirement already satisfied: requests-oauthlib>=0.7.0 in /opt/conda/lib/python3.10/site-packages (from google-auth-oauthlib<2,>=0.5->tensorboard<2.16,>=2.15->tensorflow~=2.15.0->tf-models-official==2.15.0) (1.3.1)\r\n",
            "Requirement already satisfied: MarkupSafe>=2.1.1 in /opt/conda/lib/python3.10/site-packages (from werkzeug>=1.0.1->tensorboard<2.16,>=2.15->tensorflow~=2.15.0->tf-models-official==2.15.0) (2.1.3)\r\n",
            "Requirement already satisfied: oauthlib>=3.0.0 in /opt/conda/lib/python3.10/site-packages (from requests-oauthlib>=0.7.0->google-auth-oauthlib<2,>=0.5->tensorboard<2.16,>=2.15->tensorflow~=2.15.0->tf-models-official==2.15.0) (3.2.2)\r\n",
            "Downloading tf_models_official-2.15.0-py2.py3-none-any.whl (2.7 MB)\r\n",
            "\u001b[2K   \u001b[90m━━━━━━━━━━━━━━━━━━━━━━━━━━━━━━━━━━━━━━━━\u001b[0m \u001b[32m2.7/2.7 MB\u001b[0m \u001b[31m37.4 MB/s\u001b[0m eta \u001b[36m0:00:00\u001b[0m\r\n",
            "\u001b[?25hDownloading tensorflow_model_optimization-0.8.0-py2.py3-none-any.whl (242 kB)\r\n",
            "\u001b[2K   \u001b[90m━━━━━━━━━━━━━━━━━━━━━━━━━━━━━━━━━━━━━━━━\u001b[0m \u001b[32m242.5/242.5 kB\u001b[0m \u001b[31m16.0 MB/s\u001b[0m eta \u001b[36m0:00:00\u001b[0m\r\n",
            "\u001b[?25hDownloading tf_slim-1.1.0-py2.py3-none-any.whl (352 kB)\r\n",
            "\u001b[2K   \u001b[90m━━━━━━━━━━━━━━━━━━━━━━━━━━━━━━━━━━━━━━━━\u001b[0m \u001b[32m352.1/352.1 kB\u001b[0m \u001b[31m20.4 MB/s\u001b[0m eta \u001b[36m0:00:00\u001b[0m\r\n",
            "\u001b[?25hDownloading gin_config-0.5.0-py3-none-any.whl (61 kB)\r\n",
            "\u001b[2K   \u001b[90m━━━━━━━━━━━━━━━━━━━━━━━━━━━━━━━━━━━━━━━━\u001b[0m \u001b[32m61.3/61.3 kB\u001b[0m \u001b[31m3.9 MB/s\u001b[0m eta \u001b[36m0:00:00\u001b[0m\r\n",
            "\u001b[?25hDownloading immutabledict-4.2.0-py3-none-any.whl (4.7 kB)\r\n",
            "Downloading pycocotools-2.0.8-cp310-cp310-manylinux_2_17_x86_64.manylinux2014_x86_64.whl (427 kB)\r\n",
            "\u001b[2K   \u001b[90m━━━━━━━━━━━━━━━━━━━━━━━━━━━━━━━━━━━━━━━━\u001b[0m \u001b[32m427.8/427.8 kB\u001b[0m \u001b[31m18.8 MB/s\u001b[0m eta \u001b[36m0:00:00\u001b[0m\r\n",
            "\u001b[?25hDownloading sacrebleu-2.4.2-py3-none-any.whl (106 kB)\r\n",
            "\u001b[2K   \u001b[90m━━━━━━━━━━━━━━━━━━━━━━━━━━━━━━━━━━━━━━━━\u001b[0m \u001b[32m106.7/106.7 kB\u001b[0m \u001b[31m6.8 MB/s\u001b[0m eta \u001b[36m0:00:00\u001b[0m\r\n",
            "\u001b[?25hDownloading portalocker-2.10.1-py3-none-any.whl (18 kB)\r\n",
            "Building wheels for collected packages: seqeval\r\n",
            "  Building wheel for seqeval (setup.py) ... \u001b[?25l-\b \b\\\b \b|\b \bdone\r\n",
            "\u001b[?25h  Created wheel for seqeval: filename=seqeval-1.2.2-py3-none-any.whl size=16162 sha256=f14fb748aaaa2b1bbdf50d98a32528816b0385b8889e7e8a60798daba4a8b881\r\n",
            "  Stored in directory: /root/.cache/pip/wheels/1a/67/4a/ad4082dd7dfc30f2abfe4d80a2ed5926a506eb8a972b4767fa\r\n",
            "Successfully built seqeval\r\n",
            "Installing collected packages: gin-config, tf-slim, tensorflow-model-optimization, portalocker, immutabledict, sacrebleu, seqeval, pycocotools, tf-models-official\r\n",
            "Successfully installed gin-config-0.5.0 immutabledict-4.2.0 portalocker-2.10.1 pycocotools-2.0.8 sacrebleu-2.4.2 seqeval-1.2.2 tensorflow-model-optimization-0.8.0 tf-models-official-2.15.0 tf-slim-1.1.0\r\n"
          ]
        }
      ],
      "source": [
        "!pip install tensorflow==2.15.0\n",
        "!pip install tf-models-official==2.15.0"
      ]
    },
    {
      "cell_type": "markdown",
      "id": "ff9072e6",
      "metadata": {
        "papermill": {
          "duration": 0.023921,
          "end_time": "2024-07-18T05:11:23.952872",
          "exception": false,
          "start_time": "2024-07-18T05:11:23.928951",
          "status": "completed"
        },
        "tags": [],
        "id": "ff9072e6"
      },
      "source": [
        "# Import library"
      ]
    },
    {
      "cell_type": "code",
      "execution_count": null,
      "id": "4e00155f",
      "metadata": {
        "execution": {
          "iopub.execute_input": "2024-07-18T05:11:24.004751Z",
          "iopub.status.busy": "2024-07-18T05:11:24.004367Z",
          "iopub.status.idle": "2024-07-18T05:11:46.409452Z",
          "shell.execute_reply": "2024-07-18T05:11:46.408524Z"
        },
        "papermill": {
          "duration": 22.434101,
          "end_time": "2024-07-18T05:11:46.412034",
          "exception": false,
          "start_time": "2024-07-18T05:11:23.977933",
          "status": "completed"
        },
        "tags": [],
        "id": "4e00155f",
        "outputId": "06b4e955-6605-4e19-d462-946619b6d7d8"
      },
      "outputs": [
        {
          "name": "stderr",
          "output_type": "stream",
          "text": [
            "2024-07-18 05:11:26.906637: E external/local_xla/xla/stream_executor/cuda/cuda_dnn.cc:9261] Unable to register cuDNN factory: Attempting to register factory for plugin cuDNN when one has already been registered\n",
            "2024-07-18 05:11:26.906766: E external/local_xla/xla/stream_executor/cuda/cuda_fft.cc:607] Unable to register cuFFT factory: Attempting to register factory for plugin cuFFT when one has already been registered\n",
            "2024-07-18 05:11:27.047420: E external/local_xla/xla/stream_executor/cuda/cuda_blas.cc:1515] Unable to register cuBLAS factory: Attempting to register factory for plugin cuBLAS when one has already been registered\n"
          ]
        }
      ],
      "source": [
        "from sklearn.model_selection import train_test_split\n",
        "from tensorflow.keras import layers, models\n",
        "from tensorflow.keras import mixed_precision\n",
        "from transformers import AutoTokenizer, AutoModel, TFAutoModel\n",
        "import numpy as np\n",
        "import pandas as pd\n",
        "import sklearn\n",
        "import tensorflow as tf\n",
        "import tensorflow_models as tfm"
      ]
    },
    {
      "cell_type": "markdown",
      "id": "d5104e3c",
      "metadata": {
        "papermill": {
          "duration": 0.025401,
          "end_time": "2024-07-18T05:11:46.463351",
          "exception": false,
          "start_time": "2024-07-18T05:11:46.437950",
          "status": "completed"
        },
        "tags": [],
        "id": "d5104e3c"
      },
      "source": [
        "# Define hyperparammeter"
      ]
    },
    {
      "cell_type": "code",
      "execution_count": null,
      "id": "b7a78340",
      "metadata": {
        "execution": {
          "iopub.execute_input": "2024-07-18T05:11:46.515340Z",
          "iopub.status.busy": "2024-07-18T05:11:46.514376Z",
          "iopub.status.idle": "2024-07-18T05:11:46.519503Z",
          "shell.execute_reply": "2024-07-18T05:11:46.518466Z"
        },
        "papermill": {
          "duration": 0.033189,
          "end_time": "2024-07-18T05:11:46.521629",
          "exception": false,
          "start_time": "2024-07-18T05:11:46.488440",
          "status": "completed"
        },
        "tags": [],
        "id": "b7a78340"
      },
      "outputs": [],
      "source": [
        "epochs = 4\n",
        "batch_size = 16\n",
        "init_lr = 2e-5"
      ]
    },
    {
      "cell_type": "markdown",
      "id": "db465d43",
      "metadata": {
        "papermill": {
          "duration": 0.024186,
          "end_time": "2024-07-18T05:11:46.569440",
          "exception": false,
          "start_time": "2024-07-18T05:11:46.545254",
          "status": "completed"
        },
        "tags": [],
        "id": "db465d43"
      },
      "source": [
        "# Set use 16 bit"
      ]
    },
    {
      "cell_type": "code",
      "execution_count": null,
      "id": "03d23c0f",
      "metadata": {
        "execution": {
          "iopub.execute_input": "2024-07-18T05:11:46.618802Z",
          "iopub.status.busy": "2024-07-18T05:11:46.618425Z",
          "iopub.status.idle": "2024-07-18T05:11:46.700594Z",
          "shell.execute_reply": "2024-07-18T05:11:46.699649Z"
        },
        "papermill": {
          "duration": 0.109232,
          "end_time": "2024-07-18T05:11:46.702566",
          "exception": false,
          "start_time": "2024-07-18T05:11:46.593334",
          "status": "completed"
        },
        "tags": [],
        "id": "03d23c0f",
        "outputId": "75416a16-795c-44f8-9eb4-e51235e7356e"
      },
      "outputs": [
        {
          "name": "stdout",
          "output_type": "stream",
          "text": [
            "Compute dtype: float16\n",
            "Variable dtype: float32\n"
          ]
        }
      ],
      "source": [
        "policy = mixed_precision.Policy('mixed_float16')\n",
        "mixed_precision.set_global_policy(policy)\n",
        "\n",
        "print('Compute dtype: %s' % policy.compute_dtype)\n",
        "print('Variable dtype: %s' % policy.variable_dtype)"
      ]
    },
    {
      "cell_type": "markdown",
      "id": "0f9d5a2a",
      "metadata": {
        "papermill": {
          "duration": 0.023929,
          "end_time": "2024-07-18T05:11:46.749478",
          "exception": false,
          "start_time": "2024-07-18T05:11:46.725549",
          "status": "completed"
        },
        "tags": [],
        "id": "0f9d5a2a"
      },
      "source": [
        "# Sentiment"
      ]
    },
    {
      "cell_type": "markdown",
      "id": "567beb5d",
      "metadata": {
        "papermill": {
          "duration": 0.025977,
          "end_time": "2024-07-18T05:11:46.801452",
          "exception": false,
          "start_time": "2024-07-18T05:11:46.775475",
          "status": "completed"
        },
        "tags": [],
        "id": "567beb5d"
      },
      "source": [
        "## Load data"
      ]
    },
    {
      "cell_type": "markdown",
      "id": "18bb7466",
      "metadata": {
        "papermill": {
          "duration": 0.025876,
          "end_time": "2024-07-18T05:11:46.853173",
          "exception": false,
          "start_time": "2024-07-18T05:11:46.827297",
          "status": "completed"
        },
        "tags": [],
        "id": "18bb7466"
      },
      "source": [
        "### Read csv"
      ]
    },
    {
      "cell_type": "code",
      "execution_count": null,
      "id": "99ba388b",
      "metadata": {
        "execution": {
          "iopub.execute_input": "2024-07-18T05:11:46.903575Z",
          "iopub.status.busy": "2024-07-18T05:11:46.902911Z",
          "iopub.status.idle": "2024-07-18T05:11:47.019280Z",
          "shell.execute_reply": "2024-07-18T05:11:47.018141Z"
        },
        "papermill": {
          "duration": 0.144667,
          "end_time": "2024-07-18T05:11:47.021782",
          "exception": false,
          "start_time": "2024-07-18T05:11:46.877115",
          "status": "completed"
        },
        "tags": [],
        "id": "99ba388b"
      },
      "outputs": [],
      "source": [
        "df_train = pd.read_csv(\"/kaggle/input/synthetic_train.csv\")\n",
        "df_test = pd.read_csv(\"/kaggle/input/synthetic_val.csv\")"
      ]
    },
    {
      "cell_type": "markdown",
      "id": "ddf1cfcc",
      "metadata": {
        "papermill": {
          "duration": 0.023973,
          "end_time": "2024-07-18T05:11:47.070130",
          "exception": false,
          "start_time": "2024-07-18T05:11:47.046157",
          "status": "completed"
        },
        "tags": [],
        "id": "ddf1cfcc"
      },
      "source": [
        "### Review data\n",
        "- Dataset have three column sentence and sentiment. We will use sentence as input and sentiment is output.\n",
        "- We can see that this data is belance because all classes have same number of samples.\n",
        "- Then, we count number words in each sentence. We can see that max word is 48. We don't need use large input size."
      ]
    },
    {
      "cell_type": "code",
      "execution_count": null,
      "id": "087dcce3",
      "metadata": {
        "execution": {
          "iopub.execute_input": "2024-07-18T05:11:47.120376Z",
          "iopub.status.busy": "2024-07-18T05:11:47.119722Z",
          "iopub.status.idle": "2024-07-18T05:11:47.139225Z",
          "shell.execute_reply": "2024-07-18T05:11:47.138154Z"
        },
        "papermill": {
          "duration": 0.047218,
          "end_time": "2024-07-18T05:11:47.141424",
          "exception": false,
          "start_time": "2024-07-18T05:11:47.094206",
          "status": "completed"
        },
        "tags": [],
        "id": "087dcce3",
        "outputId": "6befd687-0a39-4960-9698-d4f22afc6226"
      },
      "outputs": [
        {
          "data": {
            "text/html": [
              "<div>\n",
              "<style scoped>\n",
              "    .dataframe tbody tr th:only-of-type {\n",
              "        vertical-align: middle;\n",
              "    }\n",
              "\n",
              "    .dataframe tbody tr th {\n",
              "        vertical-align: top;\n",
              "    }\n",
              "\n",
              "    .dataframe thead th {\n",
              "        text-align: right;\n",
              "    }\n",
              "</style>\n",
              "<table border=\"1\" class=\"dataframe\">\n",
              "  <thead>\n",
              "    <tr style=\"text-align: right;\">\n",
              "      <th></th>\n",
              "      <th>sentence</th>\n",
              "      <th>sentiment</th>\n",
              "      <th>topic</th>\n",
              "    </tr>\n",
              "  </thead>\n",
              "  <tbody>\n",
              "    <tr>\n",
              "      <th>0</th>\n",
              "      <td>Đội ngũ bảo trì quá thưa thớt dẫn đến không đả...</td>\n",
              "      <td>negative</td>\n",
              "      <td>facility</td>\n",
              "    </tr>\n",
              "    <tr>\n",
              "      <th>1</th>\n",
              "      <td>The university's musical and artistic faciliti...</td>\n",
              "      <td>neutral</td>\n",
              "      <td>facility</td>\n",
              "    </tr>\n",
              "    <tr>\n",
              "      <th>2</th>\n",
              "      <td>Phương pháp giảng dạy phù hợp với các đối tượn...</td>\n",
              "      <td>neutral</td>\n",
              "      <td>curriculum</td>\n",
              "    </tr>\n",
              "    <tr>\n",
              "      <th>3</th>\n",
              "      <td>Chương trình học giúp tôi trở thành một chuyên...</td>\n",
              "      <td>positive</td>\n",
              "      <td>curriculum</td>\n",
              "    </tr>\n",
              "    <tr>\n",
              "      <th>4</th>\n",
              "      <td>Tôi nghĩ rằng chương trình đào tạo có thể có t...</td>\n",
              "      <td>neutral</td>\n",
              "      <td>curriculum</td>\n",
              "    </tr>\n",
              "  </tbody>\n",
              "</table>\n",
              "</div>"
            ],
            "text/plain": [
              "                                            sentence sentiment       topic\n",
              "0  Đội ngũ bảo trì quá thưa thớt dẫn đến không đả...  negative    facility\n",
              "1  The university's musical and artistic faciliti...   neutral    facility\n",
              "2  Phương pháp giảng dạy phù hợp với các đối tượn...   neutral  curriculum\n",
              "3  Chương trình học giúp tôi trở thành một chuyên...  positive  curriculum\n",
              "4  Tôi nghĩ rằng chương trình đào tạo có thể có t...   neutral  curriculum"
            ]
          },
          "execution_count": 6,
          "metadata": {},
          "output_type": "execute_result"
        }
      ],
      "source": [
        "df_train.head()"
      ]
    },
    {
      "cell_type": "code",
      "execution_count": null,
      "id": "ad04b3f8",
      "metadata": {
        "execution": {
          "iopub.execute_input": "2024-07-18T05:11:47.192617Z",
          "iopub.status.busy": "2024-07-18T05:11:47.192226Z",
          "iopub.status.idle": "2024-07-18T05:11:47.204057Z",
          "shell.execute_reply": "2024-07-18T05:11:47.203112Z"
        },
        "papermill": {
          "duration": 0.039827,
          "end_time": "2024-07-18T05:11:47.206247",
          "exception": false,
          "start_time": "2024-07-18T05:11:47.166420",
          "status": "completed"
        },
        "tags": [],
        "id": "ad04b3f8",
        "outputId": "6cb00829-0003-440c-d917-6fb93ae12857"
      },
      "outputs": [
        {
          "data": {
            "text/html": [
              "<div>\n",
              "<style scoped>\n",
              "    .dataframe tbody tr th:only-of-type {\n",
              "        vertical-align: middle;\n",
              "    }\n",
              "\n",
              "    .dataframe tbody tr th {\n",
              "        vertical-align: top;\n",
              "    }\n",
              "\n",
              "    .dataframe thead th {\n",
              "        text-align: right;\n",
              "    }\n",
              "</style>\n",
              "<table border=\"1\" class=\"dataframe\">\n",
              "  <thead>\n",
              "    <tr style=\"text-align: right;\">\n",
              "      <th></th>\n",
              "      <th>sentence</th>\n",
              "      <th>sentiment</th>\n",
              "      <th>topic</th>\n",
              "    </tr>\n",
              "  </thead>\n",
              "  <tbody>\n",
              "    <tr>\n",
              "      <th>0</th>\n",
              "      <td>Chất lượng vật chất kém.</td>\n",
              "      <td>negative</td>\n",
              "      <td>facility</td>\n",
              "    </tr>\n",
              "    <tr>\n",
              "      <th>1</th>\n",
              "      <td>Phần mềm học tập quá khó sử dụng, khiến sinh v...</td>\n",
              "      <td>negative</td>\n",
              "      <td>facility</td>\n",
              "    </tr>\n",
              "    <tr>\n",
              "      <th>2</th>\n",
              "      <td>Trường tôi thiếu những tiện ích cơ bản như máy...</td>\n",
              "      <td>negative</td>\n",
              "      <td>facility</td>\n",
              "    </tr>\n",
              "    <tr>\n",
              "      <th>3</th>\n",
              "      <td>Cần tạo thêm các hoạt động gắn kết giữa sinh v...</td>\n",
              "      <td>neutral</td>\n",
              "      <td>curriculum</td>\n",
              "    </tr>\n",
              "    <tr>\n",
              "      <th>4</th>\n",
              "      <td>Họ rất khoan dung và lượng giác trong quan điể...</td>\n",
              "      <td>neutral</td>\n",
              "      <td>others</td>\n",
              "    </tr>\n",
              "  </tbody>\n",
              "</table>\n",
              "</div>"
            ],
            "text/plain": [
              "                                            sentence sentiment       topic\n",
              "0                           Chất lượng vật chất kém.  negative    facility\n",
              "1  Phần mềm học tập quá khó sử dụng, khiến sinh v...  negative    facility\n",
              "2  Trường tôi thiếu những tiện ích cơ bản như máy...  negative    facility\n",
              "3  Cần tạo thêm các hoạt động gắn kết giữa sinh v...   neutral  curriculum\n",
              "4  Họ rất khoan dung và lượng giác trong quan điể...   neutral      others"
            ]
          },
          "execution_count": 7,
          "metadata": {},
          "output_type": "execute_result"
        }
      ],
      "source": [
        "df_test.head()"
      ]
    },
    {
      "cell_type": "code",
      "execution_count": null,
      "id": "4db08ba4",
      "metadata": {
        "execution": {
          "iopub.execute_input": "2024-07-18T05:11:47.259977Z",
          "iopub.status.busy": "2024-07-18T05:11:47.259595Z",
          "iopub.status.idle": "2024-07-18T05:11:47.277048Z",
          "shell.execute_reply": "2024-07-18T05:11:47.276092Z"
        },
        "papermill": {
          "duration": 0.04643,
          "end_time": "2024-07-18T05:11:47.279346",
          "exception": false,
          "start_time": "2024-07-18T05:11:47.232916",
          "status": "completed"
        },
        "tags": [],
        "id": "4db08ba4",
        "outputId": "35f1c494-96ae-445b-ae6c-63a45511a6cc"
      },
      "outputs": [
        {
          "data": {
            "text/plain": [
              "sentiment\n",
              "neutral     2724\n",
              "negative    2711\n",
              "positive    2709\n",
              "Name: count, dtype: int64"
            ]
          },
          "execution_count": 8,
          "metadata": {},
          "output_type": "execute_result"
        }
      ],
      "source": [
        "df_train.sentiment.value_counts()"
      ]
    },
    {
      "cell_type": "code",
      "execution_count": null,
      "id": "7eb3e840",
      "metadata": {
        "execution": {
          "iopub.execute_input": "2024-07-18T05:11:47.330881Z",
          "iopub.status.busy": "2024-07-18T05:11:47.330428Z",
          "iopub.status.idle": "2024-07-18T05:11:47.338894Z",
          "shell.execute_reply": "2024-07-18T05:11:47.337847Z"
        },
        "papermill": {
          "duration": 0.036572,
          "end_time": "2024-07-18T05:11:47.341036",
          "exception": false,
          "start_time": "2024-07-18T05:11:47.304464",
          "status": "completed"
        },
        "tags": [],
        "id": "7eb3e840",
        "outputId": "2403318f-4be0-48fe-d0b8-3303b9ca5201"
      },
      "outputs": [
        {
          "data": {
            "text/plain": [
              "sentiment\n",
              "negative    686\n",
              "positive    680\n",
              "neutral     670\n",
              "Name: count, dtype: int64"
            ]
          },
          "execution_count": 9,
          "metadata": {},
          "output_type": "execute_result"
        }
      ],
      "source": [
        "df_test.sentiment.value_counts()"
      ]
    },
    {
      "cell_type": "code",
      "execution_count": null,
      "id": "af62883b",
      "metadata": {
        "execution": {
          "iopub.execute_input": "2024-07-18T05:11:47.392165Z",
          "iopub.status.busy": "2024-07-18T05:11:47.391796Z",
          "iopub.status.idle": "2024-07-18T05:11:47.420847Z",
          "shell.execute_reply": "2024-07-18T05:11:47.419808Z"
        },
        "papermill": {
          "duration": 0.057048,
          "end_time": "2024-07-18T05:11:47.422850",
          "exception": false,
          "start_time": "2024-07-18T05:11:47.365802",
          "status": "completed"
        },
        "tags": [],
        "id": "af62883b"
      },
      "outputs": [],
      "source": [
        "df_train['len'] = df_train.sentence.apply(lambda x: len(str(x).split()))\n",
        "df_test['len'] = df_test.sentence.apply(lambda x: len(str(x).split()))"
      ]
    },
    {
      "cell_type": "code",
      "execution_count": null,
      "id": "12407796",
      "metadata": {
        "execution": {
          "iopub.execute_input": "2024-07-18T05:11:47.525277Z",
          "iopub.status.busy": "2024-07-18T05:11:47.524884Z",
          "iopub.status.idle": "2024-07-18T05:11:47.537804Z",
          "shell.execute_reply": "2024-07-18T05:11:47.536900Z"
        },
        "papermill": {
          "duration": 0.090174,
          "end_time": "2024-07-18T05:11:47.540027",
          "exception": false,
          "start_time": "2024-07-18T05:11:47.449853",
          "status": "completed"
        },
        "tags": [],
        "id": "12407796",
        "outputId": "777fe079-2f6e-447f-eef4-ab15ef2ceb9d"
      },
      "outputs": [
        {
          "data": {
            "text/plain": [
              "count    8144.000000\n",
              "mean       15.549730\n",
              "std         5.018764\n",
              "min         3.000000\n",
              "25%        12.000000\n",
              "50%        15.000000\n",
              "75%        18.000000\n",
              "max        43.000000\n",
              "Name: len, dtype: float64"
            ]
          },
          "execution_count": 11,
          "metadata": {},
          "output_type": "execute_result"
        }
      ],
      "source": [
        "df_train['len'].describe()"
      ]
    },
    {
      "cell_type": "code",
      "execution_count": null,
      "id": "7618ce5c",
      "metadata": {
        "execution": {
          "iopub.execute_input": "2024-07-18T05:11:47.589024Z",
          "iopub.status.busy": "2024-07-18T05:11:47.588246Z",
          "iopub.status.idle": "2024-07-18T05:11:47.597688Z",
          "shell.execute_reply": "2024-07-18T05:11:47.596810Z"
        },
        "papermill": {
          "duration": 0.036248,
          "end_time": "2024-07-18T05:11:47.599996",
          "exception": false,
          "start_time": "2024-07-18T05:11:47.563748",
          "status": "completed"
        },
        "tags": [],
        "id": "7618ce5c",
        "outputId": "257d6bb5-c1ce-4a77-be62-b5263e635dc6"
      },
      "outputs": [
        {
          "data": {
            "text/plain": [
              "count    2036.000000\n",
              "mean       15.694990\n",
              "std         5.185957\n",
              "min         2.000000\n",
              "25%        12.000000\n",
              "50%        15.000000\n",
              "75%        19.000000\n",
              "max        48.000000\n",
              "Name: len, dtype: float64"
            ]
          },
          "execution_count": 12,
          "metadata": {},
          "output_type": "execute_result"
        }
      ],
      "source": [
        "df_test['len'].describe()"
      ]
    },
    {
      "cell_type": "markdown",
      "id": "bc31afcf",
      "metadata": {
        "papermill": {
          "duration": 0.024514,
          "end_time": "2024-07-18T05:11:47.650512",
          "exception": false,
          "start_time": "2024-07-18T05:11:47.625998",
          "status": "completed"
        },
        "tags": [],
        "id": "bc31afcf"
      },
      "source": [
        "## Create Dataset"
      ]
    },
    {
      "cell_type": "markdown",
      "id": "1afde95e",
      "metadata": {
        "papermill": {
          "duration": 0.023775,
          "end_time": "2024-07-18T05:11:47.699007",
          "exception": false,
          "start_time": "2024-07-18T05:11:47.675232",
          "status": "completed"
        },
        "tags": [],
        "id": "1afde95e"
      },
      "source": [
        "### Create tokenizer"
      ]
    },
    {
      "cell_type": "code",
      "execution_count": null,
      "id": "84f4a996",
      "metadata": {
        "execution": {
          "iopub.execute_input": "2024-07-18T05:11:47.749456Z",
          "iopub.status.busy": "2024-07-18T05:11:47.749055Z",
          "iopub.status.idle": "2024-07-18T05:11:50.547413Z",
          "shell.execute_reply": "2024-07-18T05:11:50.546615Z"
        },
        "papermill": {
          "duration": 2.826278,
          "end_time": "2024-07-18T05:11:50.549817",
          "exception": false,
          "start_time": "2024-07-18T05:11:47.723539",
          "status": "completed"
        },
        "tags": [],
        "colab": {
          "referenced_widgets": [
            "ce58310469bc4da2874e797378ebfe67",
            "295204e74b144af4815dea24209c5ce9",
            "a3d779549572446f8b23902c6453ef67",
            "f7d3578bd065479e8a42b6ab3c3255f7"
          ]
        },
        "id": "84f4a996",
        "outputId": "38874d6e-1e7d-488a-b000-2e728002cc29"
      },
      "outputs": [
        {
          "data": {
            "application/vnd.jupyter.widget-view+json": {
              "model_id": "ce58310469bc4da2874e797378ebfe67",
              "version_major": 2,
              "version_minor": 0
            },
            "text/plain": [
              "tokenizer_config.json:   0%|          | 0.00/418 [00:00<?, ?B/s]"
            ]
          },
          "metadata": {},
          "output_type": "display_data"
        },
        {
          "data": {
            "application/vnd.jupyter.widget-view+json": {
              "model_id": "295204e74b144af4815dea24209c5ce9",
              "version_major": 2,
              "version_minor": 0
            },
            "text/plain": [
              "sentencepiece.bpe.model:   0%|          | 0.00/5.07M [00:00<?, ?B/s]"
            ]
          },
          "metadata": {},
          "output_type": "display_data"
        },
        {
          "data": {
            "application/vnd.jupyter.widget-view+json": {
              "model_id": "a3d779549572446f8b23902c6453ef67",
              "version_major": 2,
              "version_minor": 0
            },
            "text/plain": [
              "tokenizer.json:   0%|          | 0.00/17.1M [00:00<?, ?B/s]"
            ]
          },
          "metadata": {},
          "output_type": "display_data"
        },
        {
          "data": {
            "application/vnd.jupyter.widget-view+json": {
              "model_id": "f7d3578bd065479e8a42b6ab3c3255f7",
              "version_major": 2,
              "version_minor": 0
            },
            "text/plain": [
              "special_tokens_map.json:   0%|          | 0.00/280 [00:00<?, ?B/s]"
            ]
          },
          "metadata": {},
          "output_type": "display_data"
        }
      ],
      "source": [
        "tokenizer = AutoTokenizer.from_pretrained('intfloat/multilingual-e5-base', return_tensors=\"tf\")"
      ]
    },
    {
      "cell_type": "markdown",
      "id": "2770c9bd",
      "metadata": {
        "papermill": {
          "duration": 0.029369,
          "end_time": "2024-07-18T05:11:50.605372",
          "exception": false,
          "start_time": "2024-07-18T05:11:50.576003",
          "status": "completed"
        },
        "tags": [],
        "id": "2770c9bd"
      },
      "source": [
        "### Create Dataset\n",
        "Create train_data_generator and test_data_generator to generate data, just for sample in input and label and return this sample.\n",
        "\n",
        "Use tf.data.Dataset.from_generator to create Dataset, we need set output_signature."
      ]
    },
    {
      "cell_type": "code",
      "execution_count": null,
      "id": "69524698",
      "metadata": {
        "execution": {
          "iopub.execute_input": "2024-07-18T05:11:50.674445Z",
          "iopub.status.busy": "2024-07-18T05:11:50.673407Z",
          "iopub.status.idle": "2024-07-18T05:11:51.331260Z",
          "shell.execute_reply": "2024-07-18T05:11:51.330363Z"
        },
        "papermill": {
          "duration": 0.695704,
          "end_time": "2024-07-18T05:11:51.334571",
          "exception": false,
          "start_time": "2024-07-18T05:11:50.638867",
          "status": "completed"
        },
        "tags": [],
        "id": "69524698"
      },
      "outputs": [],
      "source": [
        "train_texts = df_train.sentence.to_list()\n",
        "test_texts = df_test.sentence.to_list()\n",
        "\n",
        "train_encodings = tokenizer(train_texts, truncation=True, padding=True, max_length=128)\n",
        "test_encodings = tokenizer(test_texts, truncation=True, padding=True, max_length=128)"
      ]
    },
    {
      "cell_type": "code",
      "execution_count": null,
      "id": "85224e0e",
      "metadata": {
        "execution": {
          "iopub.execute_input": "2024-07-18T05:11:51.391365Z",
          "iopub.status.busy": "2024-07-18T05:11:51.390986Z",
          "iopub.status.idle": "2024-07-18T05:11:51.406020Z",
          "shell.execute_reply": "2024-07-18T05:11:51.404973Z"
        },
        "papermill": {
          "duration": 0.043975,
          "end_time": "2024-07-18T05:11:51.408545",
          "exception": false,
          "start_time": "2024-07-18T05:11:51.364570",
          "status": "completed"
        },
        "tags": [],
        "id": "85224e0e"
      },
      "outputs": [],
      "source": [
        "train_labels = df_train.sentiment.apply(lambda x: 0 if x == 'negative' else 1 if x == 'positive' else 2).to_list()\n",
        "test_labels = df_test.sentiment.apply(lambda x: 0 if x == 'negative' else 1 if x == 'positive' else 2).to_list()"
      ]
    },
    {
      "cell_type": "code",
      "execution_count": null,
      "id": "896f4a7a",
      "metadata": {
        "execution": {
          "iopub.execute_input": "2024-07-18T05:11:51.466578Z",
          "iopub.status.busy": "2024-07-18T05:11:51.466233Z",
          "iopub.status.idle": "2024-07-18T05:11:52.023412Z",
          "shell.execute_reply": "2024-07-18T05:11:52.022268Z"
        },
        "papermill": {
          "duration": 0.587776,
          "end_time": "2024-07-18T05:11:52.026028",
          "exception": false,
          "start_time": "2024-07-18T05:11:51.438252",
          "status": "completed"
        },
        "tags": [],
        "id": "896f4a7a"
      },
      "outputs": [],
      "source": [
        "def train_data_generator():\n",
        "    for ids, mask, label in zip(train_encodings.input_ids, train_encodings.attention_mask, train_labels):\n",
        "        yield (ids, mask), label\n",
        "\n",
        "def test_data_generator():\n",
        "    for ids, mask, label in zip(test_encodings.input_ids, test_encodings.attention_mask, test_labels):\n",
        "        yield (ids, mask), label\n",
        "\n",
        "# Create the dataset from the generator\n",
        "train_dataset = tf.data.Dataset.from_generator(\n",
        "    train_data_generator,\n",
        "    output_signature=(\n",
        "        (tf.TensorSpec(shape=(None,), dtype=tf.int32),\n",
        "         tf.TensorSpec(shape=(None,), dtype=tf.int32)),\n",
        "        tf.TensorSpec(shape=(), dtype=tf.int32)\n",
        "    )\n",
        ")\n",
        "\n",
        "test_dataset = tf.data.Dataset.from_generator(\n",
        "    test_data_generator,\n",
        "    output_signature=(\n",
        "        (tf.TensorSpec(shape=(None,), dtype=tf.int32),\n",
        "         tf.TensorSpec(shape=(None,), dtype=tf.int32)),\n",
        "        tf.TensorSpec(shape=(), dtype=tf.int32)\n",
        "    )\n",
        ")"
      ]
    },
    {
      "cell_type": "markdown",
      "id": "4fb5b2b3",
      "metadata": {
        "papermill": {
          "duration": 0.025936,
          "end_time": "2024-07-18T05:11:52.079879",
          "exception": false,
          "start_time": "2024-07-18T05:11:52.053943",
          "status": "completed"
        },
        "tags": [],
        "id": "4fb5b2b3"
      },
      "source": [
        "## Create model"
      ]
    },
    {
      "cell_type": "markdown",
      "id": "4d7021e2",
      "metadata": {
        "papermill": {
          "duration": 0.025158,
          "end_time": "2024-07-18T05:11:52.130699",
          "exception": false,
          "start_time": "2024-07-18T05:11:52.105541",
          "status": "completed"
        },
        "tags": [],
        "id": "4d7021e2"
      },
      "source": [
        "### Define model"
      ]
    },
    {
      "cell_type": "code",
      "execution_count": null,
      "id": "e61efa0a",
      "metadata": {
        "execution": {
          "iopub.execute_input": "2024-07-18T05:11:52.185117Z",
          "iopub.status.busy": "2024-07-18T05:11:52.184264Z",
          "iopub.status.idle": "2024-07-18T05:11:52.194325Z",
          "shell.execute_reply": "2024-07-18T05:11:52.193446Z"
        },
        "papermill": {
          "duration": 0.03968,
          "end_time": "2024-07-18T05:11:52.196354",
          "exception": false,
          "start_time": "2024-07-18T05:11:52.156674",
          "status": "completed"
        },
        "tags": [],
        "id": "e61efa0a"
      },
      "outputs": [],
      "source": [
        "class custom_model(tf.keras.Model):\n",
        "    def __init__(self, num_classes):\n",
        "        super().__init__()\n",
        "        self.base_model = TFAutoModel.from_pretrained('intfloat/multilingual-e5-base')\n",
        "        self.dropout = layers.Dropout(0.3)\n",
        "        self.attention = AttnHead(768, 768) #384 for small\n",
        "        self.output_layer = layers.Dense(num_classes)\n",
        "\n",
        "    def call(self, inputs):\n",
        "        input_ids, attention_mask = inputs\n",
        "        x = self.base_model(input_ids, attention_mask).last_hidden_state\n",
        "        x = self.attention(x)\n",
        "        x = self.dropout(x)\n",
        "        logits = self.output_layer(x)\n",
        "        return logits\n",
        "\n",
        "class AttnHead(tf.keras.layers.Layer):\n",
        "    def __init__(self, hidden_dim, output_dim):\n",
        "        super(AttnHead, self).__init__()\n",
        "        self.linear_1 = layers.Dense(output_dim, activation='linear')\n",
        "        self.linear_2 = layers.Dense(1, activation='linear')\n",
        "\n",
        "    def call(self, last_hidden_states):\n",
        "        linear_1_output = self.linear_1(last_hidden_states)\n",
        "        activation = tf.nn.tanh(linear_1_output)\n",
        "        score = self.linear_2(activation)\n",
        "        weights = tf.nn.softmax(score, axis=1)\n",
        "        output = tf.reduce_sum(weights * last_hidden_states, axis=1)\n",
        "\n",
        "        return output"
      ]
    },
    {
      "cell_type": "markdown",
      "id": "6f86ab51",
      "metadata": {
        "papermill": {
          "duration": 0.027003,
          "end_time": "2024-07-18T05:11:52.249402",
          "exception": false,
          "start_time": "2024-07-18T05:11:52.222399",
          "status": "completed"
        },
        "tags": [],
        "id": "6f86ab51"
      },
      "source": [
        "### Create learning rate scheduler"
      ]
    },
    {
      "cell_type": "code",
      "execution_count": null,
      "id": "f69f69b9",
      "metadata": {
        "execution": {
          "iopub.execute_input": "2024-07-18T05:11:52.305189Z",
          "iopub.status.busy": "2024-07-18T05:11:52.304815Z",
          "iopub.status.idle": "2024-07-18T05:11:54.080331Z",
          "shell.execute_reply": "2024-07-18T05:11:54.079413Z"
        },
        "papermill": {
          "duration": 1.806435,
          "end_time": "2024-07-18T05:11:54.083070",
          "exception": false,
          "start_time": "2024-07-18T05:11:52.276635",
          "status": "completed"
        },
        "tags": [],
        "id": "f69f69b9",
        "outputId": "aa1b5b84-3747-4b30-e944-29d98c086351"
      },
      "outputs": [
        {
          "name": "stdout",
          "output_type": "stream",
          "text": [
            "203 2036\n"
          ]
        }
      ],
      "source": [
        "# Number of warmup steps\n",
        "steps_per_epoch = len(df_train) // batch_size\n",
        "total_steps = steps_per_epoch * epochs\n",
        "num_warmup_steps = min(500, int(0.1 * total_steps))\n",
        "\n",
        "print(num_warmup_steps, total_steps)\n",
        "\n",
        "# lr_schedule = tf.keras.optimizers.schedules.CosineDecay(\n",
        "#     initial_learning_rate=0,\n",
        "#     decay_steps=total_steps - num_warmup_steps + 3,\n",
        "#     alpha=0.0,\n",
        "#     warmup_target=2e-5,\n",
        "#     warmup_steps=num_warmup_steps\n",
        "# )\n",
        "\n",
        "linear_decay = tf.keras.optimizers.schedules.PolynomialDecay(\n",
        "    initial_learning_rate=init_lr,\n",
        "    end_learning_rate=0,\n",
        "    decay_steps=total_steps)\n",
        "\n",
        "warmup_schedule = tfm.optimization.lr_schedule.LinearWarmup(\n",
        "    warmup_learning_rate = 0,\n",
        "    after_warmup_lr_sched = linear_decay,\n",
        "    warmup_steps = num_warmup_steps\n",
        ")"
      ]
    },
    {
      "cell_type": "markdown",
      "id": "28075618",
      "metadata": {
        "papermill": {
          "duration": 0.026204,
          "end_time": "2024-07-18T05:11:54.136960",
          "exception": false,
          "start_time": "2024-07-18T05:11:54.110756",
          "status": "completed"
        },
        "tags": [],
        "id": "28075618"
      },
      "source": [
        "### Create checkpoint callback"
      ]
    },
    {
      "cell_type": "code",
      "execution_count": null,
      "id": "ec0e83d7",
      "metadata": {
        "execution": {
          "iopub.execute_input": "2024-07-18T05:11:54.228340Z",
          "iopub.status.busy": "2024-07-18T05:11:54.227863Z",
          "iopub.status.idle": "2024-07-18T05:11:54.234039Z",
          "shell.execute_reply": "2024-07-18T05:11:54.233032Z"
        },
        "papermill": {
          "duration": 0.054674,
          "end_time": "2024-07-18T05:11:54.237101",
          "exception": false,
          "start_time": "2024-07-18T05:11:54.182427",
          "status": "completed"
        },
        "tags": [],
        "id": "ec0e83d7"
      },
      "outputs": [],
      "source": [
        "checkpoint_filepath = '/kaggle/working/sentiment_base'\n",
        "model_checkpoint_callback = tf.keras.callbacks.ModelCheckpoint(\n",
        "    filepath=checkpoint_filepath,\n",
        "    save_best_only=True,\n",
        "    monitor='val_accuracy',\n",
        "    mode='max',\n",
        "    verbose=1\n",
        ")"
      ]
    },
    {
      "cell_type": "markdown",
      "id": "ce4b668c",
      "metadata": {
        "papermill": {
          "duration": 0.025612,
          "end_time": "2024-07-18T05:11:54.292191",
          "exception": false,
          "start_time": "2024-07-18T05:11:54.266579",
          "status": "completed"
        },
        "tags": [],
        "id": "ce4b668c"
      },
      "source": [
        "### Create model"
      ]
    },
    {
      "cell_type": "code",
      "execution_count": null,
      "id": "21f740c0",
      "metadata": {
        "execution": {
          "iopub.execute_input": "2024-07-18T05:11:54.344552Z",
          "iopub.status.busy": "2024-07-18T05:11:54.344175Z",
          "iopub.status.idle": "2024-07-18T05:12:03.524547Z",
          "shell.execute_reply": "2024-07-18T05:12:03.523764Z"
        },
        "papermill": {
          "duration": 9.208986,
          "end_time": "2024-07-18T05:12:03.526840",
          "exception": false,
          "start_time": "2024-07-18T05:11:54.317854",
          "status": "completed"
        },
        "tags": [],
        "colab": {
          "referenced_widgets": [
            "3e653bf0056542ca8ac819cbbcb16c31",
            "1e8ae4f1d9314745a30e010abc9f07d5"
          ]
        },
        "id": "21f740c0",
        "outputId": "47811c89-8df1-4aaf-b82b-0bc6d2e21e03"
      },
      "outputs": [
        {
          "name": "stdout",
          "output_type": "stream",
          "text": [
            "Number of devices: 1\n"
          ]
        },
        {
          "data": {
            "application/vnd.jupyter.widget-view+json": {
              "model_id": "3e653bf0056542ca8ac819cbbcb16c31",
              "version_major": 2,
              "version_minor": 0
            },
            "text/plain": [
              "config.json:   0%|          | 0.00/694 [00:00<?, ?B/s]"
            ]
          },
          "metadata": {},
          "output_type": "display_data"
        },
        {
          "data": {
            "application/vnd.jupyter.widget-view+json": {
              "model_id": "1e8ae4f1d9314745a30e010abc9f07d5",
              "version_major": 2,
              "version_minor": 0
            },
            "text/plain": [
              "model.safetensors:   0%|          | 0.00/1.11G [00:00<?, ?B/s]"
            ]
          },
          "metadata": {},
          "output_type": "display_data"
        },
        {
          "name": "stderr",
          "output_type": "stream",
          "text": [
            "Some weights of the PyTorch model were not used when initializing the TF 2.0 model TFXLMRobertaModel: ['embeddings.position_ids']\n",
            "- This IS expected if you are initializing TFXLMRobertaModel from a PyTorch model trained on another task or with another architecture (e.g. initializing a TFBertForSequenceClassification model from a BertForPreTraining model).\n",
            "- This IS NOT expected if you are initializing TFXLMRobertaModel from a PyTorch model that you expect to be exactly identical (e.g. initializing a TFBertForSequenceClassification model from a BertForSequenceClassification model).\n",
            "All the weights of TFXLMRobertaModel were initialized from the PyTorch model.\n",
            "If your task is similar to the task the model of the checkpoint was trained on, you can already use TFXLMRobertaModel for predictions without further training.\n"
          ]
        }
      ],
      "source": [
        "# Create a MirroredStrategy.\n",
        "strategy = tf.distribute.MirroredStrategy()\n",
        "print('Number of devices: {}'.format(strategy.num_replicas_in_sync))\n",
        "\n",
        "# Open a strategy scope.\n",
        "with strategy.scope():\n",
        "  model = custom_model(3)\n",
        "  model.compile(\n",
        "    optimizer=tf.keras.optimizers.AdamW(learning_rate=warmup_schedule, weight_decay=1e-2),\n",
        "    #optimizer=tf.keras.optimizers.Adam(learning_rate=lr_schedule),\n",
        "    loss=tf.keras.losses.SparseCategoricalCrossentropy(from_logits=True),\n",
        "    metrics=['accuracy']\n",
        ")"
      ]
    },
    {
      "cell_type": "markdown",
      "id": "4e82cd28",
      "metadata": {
        "papermill": {
          "duration": 0.026269,
          "end_time": "2024-07-18T05:12:03.580032",
          "exception": false,
          "start_time": "2024-07-18T05:12:03.553763",
          "status": "completed"
        },
        "tags": [],
        "id": "4e82cd28"
      },
      "source": [
        "## Train model"
      ]
    },
    {
      "cell_type": "code",
      "execution_count": null,
      "id": "cc196d2d",
      "metadata": {
        "execution": {
          "iopub.execute_input": "2024-07-18T05:12:03.634637Z",
          "iopub.status.busy": "2024-07-18T05:12:03.633898Z",
          "iopub.status.idle": "2024-07-18T05:27:16.235215Z",
          "shell.execute_reply": "2024-07-18T05:27:16.234289Z"
        },
        "papermill": {
          "duration": 912.822695,
          "end_time": "2024-07-18T05:27:16.429074",
          "exception": false,
          "start_time": "2024-07-18T05:12:03.606379",
          "status": "completed"
        },
        "tags": [],
        "id": "cc196d2d",
        "outputId": "79ea7506-fdf7-4c24-a466-e8cdb36b7ae8"
      },
      "outputs": [
        {
          "name": "stdout",
          "output_type": "stream",
          "text": [
            "Epoch 1/4\n",
            "      1/Unknown - 72s 72s/step - loss: 2.0625 - accuracy: 0.1250"
          ]
        },
        {
          "name": "stderr",
          "output_type": "stream",
          "text": [
            "WARNING: All log messages before absl::InitializeLog() is called are written to STDERR\n",
            "I0000 00:00:1721279596.179822      99 device_compiler.h:186] Compiled cluster using XLA!  This line is logged at most once for the lifetime of the process.\n"
          ]
        },
        {
          "name": "stdout",
          "output_type": "stream",
          "text": [
            "    509/Unknown - 177s 207ms/step - loss: 0.5237 - accuracy: 0.7565\n",
            "Epoch 1: val_accuracy improved from -inf to 0.83743, saving model to /kaggle/working/sentiment_base\n",
            "509/509 [==============================] - 297s 444ms/step - loss: 0.5237 - accuracy: 0.7565 - val_loss: 0.3539 - val_accuracy: 0.8374\n",
            "Epoch 2/4\n",
            "509/509 [==============================] - ETA: 0s - loss: 0.2783 - accuracy: 0.8776\n",
            "Epoch 2: val_accuracy improved from 0.83743 to 0.87967, saving model to /kaggle/working/sentiment_base\n",
            "509/509 [==============================] - 212s 411ms/step - loss: 0.2783 - accuracy: 0.8776 - val_loss: 0.2725 - val_accuracy: 0.8797\n",
            "Epoch 3/4\n",
            "509/509 [==============================] - ETA: 0s - loss: 0.1895 - accuracy: 0.9170\n",
            "Epoch 3: val_accuracy improved from 0.87967 to 0.88261, saving model to /kaggle/working/sentiment_base\n",
            "509/509 [==============================] - 203s 394ms/step - loss: 0.1895 - accuracy: 0.9170 - val_loss: 0.2903 - val_accuracy: 0.8826\n",
            "Epoch 4/4\n",
            "509/509 [==============================] - ETA: 0s - loss: 0.1141 - accuracy: 0.9510\n",
            "Epoch 4: val_accuracy improved from 0.88261 to 0.89735, saving model to /kaggle/working/sentiment_base\n",
            "509/509 [==============================] - 201s 390ms/step - loss: 0.1141 - accuracy: 0.9510 - val_loss: 0.2873 - val_accuracy: 0.8973\n"
          ]
        },
        {
          "data": {
            "text/plain": [
              "<keras.src.callbacks.History at 0x781e8c5355a0>"
            ]
          },
          "execution_count": 21,
          "metadata": {},
          "output_type": "execute_result"
        }
      ],
      "source": [
        "# Train the model\n",
        "model.fit(\n",
        "    train_dataset.shuffle(len(df_train)).batch(batch_size),\n",
        "    epochs=epochs,\n",
        "    batch_size=batch_size,\n",
        "    validation_data=test_dataset.batch(batch_size),\n",
        "    callbacks=[model_checkpoint_callback]\n",
        ")"
      ]
    },
    {
      "cell_type": "markdown",
      "id": "a06712eb",
      "metadata": {
        "papermill": {
          "duration": 0.248409,
          "end_time": "2024-07-18T05:27:16.874913",
          "exception": false,
          "start_time": "2024-07-18T05:27:16.626504",
          "status": "completed"
        },
        "tags": [],
        "id": "a06712eb"
      },
      "source": [
        "## Eval"
      ]
    },
    {
      "cell_type": "code",
      "execution_count": null,
      "id": "71dd4797",
      "metadata": {
        "execution": {
          "iopub.execute_input": "2024-07-18T05:27:17.266809Z",
          "iopub.status.busy": "2024-07-18T05:27:17.266419Z",
          "iopub.status.idle": "2024-07-18T05:27:46.014243Z",
          "shell.execute_reply": "2024-07-18T05:27:46.012998Z"
        },
        "papermill": {
          "duration": 28.944122,
          "end_time": "2024-07-18T05:27:46.016383",
          "exception": false,
          "start_time": "2024-07-18T05:27:17.072261",
          "status": "completed"
        },
        "tags": [],
        "id": "71dd4797",
        "outputId": "b75ebf63-1911-4f9c-893f-e1a1e527d34b"
      },
      "outputs": [
        {
          "name": "stdout",
          "output_type": "stream",
          "text": [
            "128/128 [==============================] - 26s 56ms/step\n",
            "              precision    recall  f1-score   support\n",
            "\n",
            "           0     0.9868    0.9840    0.9854       686\n",
            "           1     0.8633    0.8544    0.8588       680\n",
            "           2     0.8409    0.8522    0.8466       670\n",
            "\n",
            "    accuracy                         0.8973      2036\n",
            "   macro avg     0.8970    0.8969    0.8969      2036\n",
            "weighted avg     0.8976    0.8973    0.8974      2036\n",
            "\n"
          ]
        }
      ],
      "source": [
        "model.load_weights(checkpoint_filepath)\n",
        "\n",
        "prediction = model.predict(test_dataset.batch(batch_size))\n",
        "predict = prediction.argmax(-1).reshape(-1)\n",
        "\n",
        "print(sklearn.metrics.classification_report(test_labels, predict, digits = 4))"
      ]
    },
    {
      "cell_type": "markdown",
      "id": "5a06eb4d",
      "metadata": {
        "papermill": {
          "duration": 0.203284,
          "end_time": "2024-07-18T05:27:46.421200",
          "exception": false,
          "start_time": "2024-07-18T05:27:46.217916",
          "status": "completed"
        },
        "tags": [],
        "id": "5a06eb4d"
      },
      "source": [
        "# Topic"
      ]
    },
    {
      "cell_type": "markdown",
      "id": "4e97ad2c",
      "metadata": {
        "papermill": {
          "duration": 0.211329,
          "end_time": "2024-07-18T05:27:46.837161",
          "exception": false,
          "start_time": "2024-07-18T05:27:46.625832",
          "status": "completed"
        },
        "tags": [],
        "id": "4e97ad2c"
      },
      "source": [
        "## Review data\n",
        "Dataset is balanced"
      ]
    },
    {
      "cell_type": "code",
      "execution_count": null,
      "id": "b0cf14df",
      "metadata": {
        "execution": {
          "iopub.execute_input": "2024-07-18T05:27:47.257988Z",
          "iopub.status.busy": "2024-07-18T05:27:47.257630Z",
          "iopub.status.idle": "2024-07-18T05:27:47.267002Z",
          "shell.execute_reply": "2024-07-18T05:27:47.266041Z"
        },
        "papermill": {
          "duration": 0.219168,
          "end_time": "2024-07-18T05:27:47.269553",
          "exception": false,
          "start_time": "2024-07-18T05:27:47.050385",
          "status": "completed"
        },
        "tags": [],
        "id": "b0cf14df",
        "outputId": "5269f6c9-9e62-40ab-cd14-70ced6ee8e92"
      },
      "outputs": [
        {
          "data": {
            "text/plain": [
              "topic\n",
              "others        2059\n",
              "curriculum    2040\n",
              "lecturer      2026\n",
              "facility      2019\n",
              "Name: count, dtype: int64"
            ]
          },
          "execution_count": 23,
          "metadata": {},
          "output_type": "execute_result"
        }
      ],
      "source": [
        "df_train.topic.value_counts()"
      ]
    },
    {
      "cell_type": "code",
      "execution_count": null,
      "id": "81292d6b",
      "metadata": {
        "execution": {
          "iopub.execute_input": "2024-07-18T05:27:47.687567Z",
          "iopub.status.busy": "2024-07-18T05:27:47.687169Z",
          "iopub.status.idle": "2024-07-18T05:27:47.695391Z",
          "shell.execute_reply": "2024-07-18T05:27:47.694505Z"
        },
        "papermill": {
          "duration": 0.219463,
          "end_time": "2024-07-18T05:27:47.697485",
          "exception": false,
          "start_time": "2024-07-18T05:27:47.478022",
          "status": "completed"
        },
        "tags": [],
        "id": "81292d6b",
        "outputId": "11a29df2-8eb1-4c93-f8f4-3f6ccdd729f7"
      },
      "outputs": [
        {
          "data": {
            "text/plain": [
              "topic\n",
              "facility      526\n",
              "lecturer      515\n",
              "curriculum    507\n",
              "others        488\n",
              "Name: count, dtype: int64"
            ]
          },
          "execution_count": 24,
          "metadata": {},
          "output_type": "execute_result"
        }
      ],
      "source": [
        "df_test.topic.value_counts()"
      ]
    },
    {
      "cell_type": "markdown",
      "id": "96bb2199",
      "metadata": {
        "execution": {
          "iopub.execute_input": "2024-06-24T08:26:39.274275Z",
          "iopub.status.busy": "2024-06-24T08:26:39.273902Z",
          "iopub.status.idle": "2024-06-24T08:26:39.278469Z",
          "shell.execute_reply": "2024-06-24T08:26:39.277491Z",
          "shell.execute_reply.started": "2024-06-24T08:26:39.274245Z"
        },
        "papermill": {
          "duration": 0.209345,
          "end_time": "2024-07-18T05:27:48.110000",
          "exception": false,
          "start_time": "2024-07-18T05:27:47.900655",
          "status": "completed"
        },
        "tags": [],
        "id": "96bb2199"
      },
      "source": [
        "## Create Dataset"
      ]
    },
    {
      "cell_type": "code",
      "execution_count": null,
      "id": "7f26fa62",
      "metadata": {
        "execution": {
          "iopub.execute_input": "2024-07-18T05:27:48.513416Z",
          "iopub.status.busy": "2024-07-18T05:27:48.513019Z",
          "iopub.status.idle": "2024-07-18T05:27:48.517509Z",
          "shell.execute_reply": "2024-07-18T05:27:48.516572Z"
        },
        "papermill": {
          "duration": 0.208545,
          "end_time": "2024-07-18T05:27:48.519426",
          "exception": false,
          "start_time": "2024-07-18T05:27:48.310881",
          "status": "completed"
        },
        "tags": [],
        "id": "7f26fa62"
      },
      "outputs": [],
      "source": [
        "TOPIC_MAPPER = {'facility': 0,\n",
        "               'lecturer': 1,\n",
        "               'curriculum': 2,\n",
        "               'others': 3}"
      ]
    },
    {
      "cell_type": "code",
      "execution_count": null,
      "id": "42961ebf",
      "metadata": {
        "execution": {
          "iopub.execute_input": "2024-07-18T05:27:48.999745Z",
          "iopub.status.busy": "2024-07-18T05:27:48.999387Z",
          "iopub.status.idle": "2024-07-18T05:27:49.511751Z",
          "shell.execute_reply": "2024-07-18T05:27:49.510718Z"
        },
        "papermill": {
          "duration": 0.735727,
          "end_time": "2024-07-18T05:27:49.514013",
          "exception": false,
          "start_time": "2024-07-18T05:27:48.778286",
          "status": "completed"
        },
        "tags": [],
        "id": "42961ebf"
      },
      "outputs": [],
      "source": [
        "train_texts = df_train.sentence.to_list()\n",
        "test_texts = df_test.sentence.to_list()\n",
        "\n",
        "train_encodings = tokenizer(train_texts, truncation=True, padding=True, max_length=128)\n",
        "test_encodings = tokenizer(test_texts, truncation=True, padding=True, max_length=128)"
      ]
    },
    {
      "cell_type": "code",
      "execution_count": null,
      "id": "f2cad35a",
      "metadata": {
        "execution": {
          "iopub.execute_input": "2024-07-18T05:27:49.918488Z",
          "iopub.status.busy": "2024-07-18T05:27:49.917803Z",
          "iopub.status.idle": "2024-07-18T05:27:49.928678Z",
          "shell.execute_reply": "2024-07-18T05:27:49.927560Z"
        },
        "papermill": {
          "duration": 0.215021,
          "end_time": "2024-07-18T05:27:49.930711",
          "exception": false,
          "start_time": "2024-07-18T05:27:49.715690",
          "status": "completed"
        },
        "tags": [],
        "id": "f2cad35a"
      },
      "outputs": [],
      "source": [
        "train_labels = df_train.topic.map(TOPIC_MAPPER).to_list()\n",
        "test_labels = df_test.topic.map(TOPIC_MAPPER).to_list()"
      ]
    },
    {
      "cell_type": "code",
      "execution_count": null,
      "id": "ddc40fb8",
      "metadata": {
        "execution": {
          "iopub.execute_input": "2024-07-18T05:27:50.336281Z",
          "iopub.status.busy": "2024-07-18T05:27:50.335531Z",
          "iopub.status.idle": "2024-07-18T05:27:50.396265Z",
          "shell.execute_reply": "2024-07-18T05:27:50.395238Z"
        },
        "papermill": {
          "duration": 0.264866,
          "end_time": "2024-07-18T05:27:50.398563",
          "exception": false,
          "start_time": "2024-07-18T05:27:50.133697",
          "status": "completed"
        },
        "tags": [],
        "id": "ddc40fb8"
      },
      "outputs": [],
      "source": [
        "def train_data_generator():\n",
        "    for ids, mask, label in zip(train_encodings.input_ids, train_encodings.attention_mask, train_labels):\n",
        "        yield (ids, mask), label\n",
        "\n",
        "def test_data_generator():\n",
        "    for ids, mask, label in zip(test_encodings.input_ids, test_encodings.attention_mask, test_labels):\n",
        "        yield (ids, mask), label\n",
        "\n",
        "# Create the dataset from the generator\n",
        "train_dataset = tf.data.Dataset.from_generator(\n",
        "    train_data_generator,\n",
        "    output_signature=(\n",
        "        (tf.TensorSpec(shape=(None,), dtype=tf.int32),\n",
        "         tf.TensorSpec(shape=(None,), dtype=tf.int32)),\n",
        "        tf.TensorSpec(shape=(), dtype=tf.int32)\n",
        "    )\n",
        ")\n",
        "\n",
        "test_dataset = tf.data.Dataset.from_generator(\n",
        "    test_data_generator,\n",
        "    output_signature=(\n",
        "        (tf.TensorSpec(shape=(None,), dtype=tf.int32),\n",
        "         tf.TensorSpec(shape=(None,), dtype=tf.int32)),\n",
        "        tf.TensorSpec(shape=(), dtype=tf.int32)\n",
        "    )\n",
        ")"
      ]
    },
    {
      "cell_type": "markdown",
      "id": "d725758e",
      "metadata": {
        "papermill": {
          "duration": 0.205639,
          "end_time": "2024-07-18T05:27:50.807305",
          "exception": false,
          "start_time": "2024-07-18T05:27:50.601666",
          "status": "completed"
        },
        "tags": [],
        "id": "d725758e"
      },
      "source": [
        "## Create model"
      ]
    },
    {
      "cell_type": "markdown",
      "id": "43cd6a6b",
      "metadata": {
        "papermill": {
          "duration": 0.203187,
          "end_time": "2024-07-18T05:27:51.216344",
          "exception": false,
          "start_time": "2024-07-18T05:27:51.013157",
          "status": "completed"
        },
        "tags": [],
        "id": "43cd6a6b"
      },
      "source": [
        "### Create learning rate scheduler"
      ]
    },
    {
      "cell_type": "code",
      "execution_count": null,
      "id": "47c97daf",
      "metadata": {
        "execution": {
          "iopub.execute_input": "2024-07-18T05:27:51.634539Z",
          "iopub.status.busy": "2024-07-18T05:27:51.634135Z",
          "iopub.status.idle": "2024-07-18T05:27:51.643899Z",
          "shell.execute_reply": "2024-07-18T05:27:51.642817Z"
        },
        "papermill": {
          "duration": 0.216593,
          "end_time": "2024-07-18T05:27:51.645971",
          "exception": false,
          "start_time": "2024-07-18T05:27:51.429378",
          "status": "completed"
        },
        "tags": [],
        "id": "47c97daf",
        "outputId": "25f68500-19bf-435a-b088-598abe6b5181"
      },
      "outputs": [
        {
          "name": "stdout",
          "output_type": "stream",
          "text": [
            "203 2036\n"
          ]
        }
      ],
      "source": [
        "# Number of warmup steps\n",
        "steps_per_epoch = len(df_train) // batch_size\n",
        "total_steps = steps_per_epoch * epochs\n",
        "num_warmup_steps = min(500, int(0.1 * total_steps))\n",
        "\n",
        "print(num_warmup_steps, total_steps)\n",
        "\n",
        "# lr_schedule = tf.keras.optimizers.schedules.CosineDecay(\n",
        "#     initial_learning_rate=0,\n",
        "#     decay_steps=total_steps - num_warmup_steps + 3,\n",
        "#     alpha=0.0,\n",
        "#     warmup_target=2e-5,\n",
        "#     warmup_steps=num_warmup_steps\n",
        "# )\n",
        "\n",
        "linear_decay = tf.keras.optimizers.schedules.PolynomialDecay(\n",
        "    initial_learning_rate=init_lr,\n",
        "    end_learning_rate=0,\n",
        "    decay_steps=total_steps)\n",
        "\n",
        "warmup_schedule = tfm.optimization.lr_schedule.LinearWarmup(\n",
        "    warmup_learning_rate = 0,\n",
        "    after_warmup_lr_sched = linear_decay,\n",
        "    warmup_steps = num_warmup_steps\n",
        ")"
      ]
    },
    {
      "cell_type": "markdown",
      "id": "d3080c18",
      "metadata": {
        "execution": {
          "iopub.execute_input": "2024-06-24T08:28:47.062530Z",
          "iopub.status.busy": "2024-06-24T08:28:47.062134Z",
          "iopub.status.idle": "2024-06-24T08:28:47.066496Z",
          "shell.execute_reply": "2024-06-24T08:28:47.065550Z",
          "shell.execute_reply.started": "2024-06-24T08:28:47.062500Z"
        },
        "papermill": {
          "duration": 0.215553,
          "end_time": "2024-07-18T05:27:52.068902",
          "exception": false,
          "start_time": "2024-07-18T05:27:51.853349",
          "status": "completed"
        },
        "tags": [],
        "id": "d3080c18"
      },
      "source": [
        "### Create checkpoint callback"
      ]
    },
    {
      "cell_type": "code",
      "execution_count": null,
      "id": "b92b3dc6",
      "metadata": {
        "execution": {
          "iopub.execute_input": "2024-07-18T05:27:52.487992Z",
          "iopub.status.busy": "2024-07-18T05:27:52.487141Z",
          "iopub.status.idle": "2024-07-18T05:27:52.492493Z",
          "shell.execute_reply": "2024-07-18T05:27:52.491567Z"
        },
        "papermill": {
          "duration": 0.215697,
          "end_time": "2024-07-18T05:27:52.494594",
          "exception": false,
          "start_time": "2024-07-18T05:27:52.278897",
          "status": "completed"
        },
        "tags": [],
        "id": "b92b3dc6"
      },
      "outputs": [],
      "source": [
        "checkpoint_filepath = '/kaggle/working/topic_base'\n",
        "model_checkpoint_callback = tf.keras.callbacks.ModelCheckpoint(\n",
        "    filepath=checkpoint_filepath,\n",
        "    save_best_only=True,\n",
        "    monitor='val_accuracy',\n",
        "    mode='max',\n",
        "    verbose=1\n",
        ")"
      ]
    },
    {
      "cell_type": "markdown",
      "id": "754cff22",
      "metadata": {
        "papermill": {
          "duration": 0.209418,
          "end_time": "2024-07-18T05:27:52.957279",
          "exception": false,
          "start_time": "2024-07-18T05:27:52.747861",
          "status": "completed"
        },
        "tags": [],
        "id": "754cff22"
      },
      "source": [
        "### Create model"
      ]
    },
    {
      "cell_type": "code",
      "execution_count": null,
      "id": "e63cb7e8",
      "metadata": {
        "execution": {
          "iopub.execute_input": "2024-07-18T05:27:53.372452Z",
          "iopub.status.busy": "2024-07-18T05:27:53.372068Z",
          "iopub.status.idle": "2024-07-18T05:27:56.420569Z",
          "shell.execute_reply": "2024-07-18T05:27:56.419578Z"
        },
        "papermill": {
          "duration": 3.25499,
          "end_time": "2024-07-18T05:27:56.422802",
          "exception": false,
          "start_time": "2024-07-18T05:27:53.167812",
          "status": "completed"
        },
        "tags": [],
        "id": "e63cb7e8",
        "outputId": "3776d946-e5a2-420f-ea0c-8aded7d755cb"
      },
      "outputs": [
        {
          "name": "stdout",
          "output_type": "stream",
          "text": [
            "Number of devices: 1\n"
          ]
        },
        {
          "name": "stderr",
          "output_type": "stream",
          "text": [
            "Some weights of the PyTorch model were not used when initializing the TF 2.0 model TFXLMRobertaModel: ['embeddings.position_ids']\n",
            "- This IS expected if you are initializing TFXLMRobertaModel from a PyTorch model trained on another task or with another architecture (e.g. initializing a TFBertForSequenceClassification model from a BertForPreTraining model).\n",
            "- This IS NOT expected if you are initializing TFXLMRobertaModel from a PyTorch model that you expect to be exactly identical (e.g. initializing a TFBertForSequenceClassification model from a BertForSequenceClassification model).\n",
            "All the weights of TFXLMRobertaModel were initialized from the PyTorch model.\n",
            "If your task is similar to the task the model of the checkpoint was trained on, you can already use TFXLMRobertaModel for predictions without further training.\n"
          ]
        }
      ],
      "source": [
        "# Create a MirroredStrategy.\n",
        "strategy = tf.distribute.MirroredStrategy()\n",
        "print('Number of devices: {}'.format(strategy.num_replicas_in_sync))\n",
        "\n",
        "# Open a strategy scope.\n",
        "with strategy.scope():\n",
        "  model = custom_model(4)\n",
        "  model.compile(\n",
        "    optimizer=tf.keras.optimizers.AdamW(learning_rate=warmup_schedule, weight_decay=1e-2),\n",
        "    #optimizer=tf.keras.optimizers.Adam(learning_rate=lr_schedule),\n",
        "    loss=tf.keras.losses.SparseCategoricalCrossentropy(from_logits=True),\n",
        "    metrics=['accuracy']\n",
        ")"
      ]
    },
    {
      "cell_type": "markdown",
      "id": "ccc1e14b",
      "metadata": {
        "papermill": {
          "duration": 0.201638,
          "end_time": "2024-07-18T05:27:56.823874",
          "exception": false,
          "start_time": "2024-07-18T05:27:56.622236",
          "status": "completed"
        },
        "tags": [],
        "id": "ccc1e14b"
      },
      "source": [
        "## Train model"
      ]
    },
    {
      "cell_type": "code",
      "execution_count": null,
      "id": "05f63f23",
      "metadata": {
        "execution": {
          "iopub.execute_input": "2024-07-18T05:27:57.248965Z",
          "iopub.status.busy": "2024-07-18T05:27:57.248549Z",
          "iopub.status.idle": "2024-07-18T05:43:10.637331Z",
          "shell.execute_reply": "2024-07-18T05:43:10.636301Z"
        },
        "papermill": {
          "duration": 913.972509,
          "end_time": "2024-07-18T05:43:11.007174",
          "exception": false,
          "start_time": "2024-07-18T05:27:57.034665",
          "status": "completed"
        },
        "tags": [],
        "id": "05f63f23",
        "outputId": "e901940e-ef98-41a4-fb08-2a2ee57b11cc"
      },
      "outputs": [
        {
          "name": "stdout",
          "output_type": "stream",
          "text": [
            "Epoch 1/4\n",
            "    509/Unknown - 161s 208ms/step - loss: 0.4007 - accuracy: 0.8460\n",
            "Epoch 1: val_accuracy improved from -inf to 0.95334, saving model to /kaggle/working/topic_base\n",
            "509/509 [==============================] - 285s 453ms/step - loss: 0.4007 - accuracy: 0.8460 - val_loss: 0.1273 - val_accuracy: 0.9533\n",
            "Epoch 2/4\n",
            "509/509 [==============================] - ETA: 0s - loss: 0.1000 - accuracy: 0.9671\n",
            "Epoch 2: val_accuracy improved from 0.95334 to 0.95874, saving model to /kaggle/working/topic_base\n",
            "509/509 [==============================] - 199s 387ms/step - loss: 0.1000 - accuracy: 0.9671 - val_loss: 0.1307 - val_accuracy: 0.9587\n",
            "Epoch 3/4\n",
            "509/509 [==============================] - ETA: 0s - loss: 0.0432 - accuracy: 0.9848\n",
            "Epoch 3: val_accuracy improved from 0.95874 to 0.96365, saving model to /kaggle/working/topic_base\n",
            "509/509 [==============================] - 215s 418ms/step - loss: 0.0432 - accuracy: 0.9848 - val_loss: 0.1344 - val_accuracy: 0.9637\n",
            "Epoch 4/4\n",
            "509/509 [==============================] - ETA: 0s - loss: 0.0168 - accuracy: 0.9937\n",
            "Epoch 4: val_accuracy improved from 0.96365 to 0.96464, saving model to /kaggle/working/topic_base\n",
            "509/509 [==============================] - 213s 415ms/step - loss: 0.0168 - accuracy: 0.9937 - val_loss: 0.1294 - val_accuracy: 0.9646\n"
          ]
        },
        {
          "data": {
            "text/plain": [
              "<keras.src.callbacks.History at 0x781a27f65060>"
            ]
          },
          "execution_count": 32,
          "metadata": {},
          "output_type": "execute_result"
        }
      ],
      "source": [
        "# Train the model\n",
        "model.fit(\n",
        "    train_dataset.shuffle(len(df_train)).batch(batch_size),\n",
        "    epochs=epochs,\n",
        "    batch_size=batch_size,\n",
        "    validation_data=test_dataset.batch(batch_size),\n",
        "    callbacks=[model_checkpoint_callback]\n",
        ")"
      ]
    },
    {
      "cell_type": "markdown",
      "id": "7591f4d0",
      "metadata": {
        "papermill": {
          "duration": 0.391146,
          "end_time": "2024-07-18T05:43:11.832386",
          "exception": false,
          "start_time": "2024-07-18T05:43:11.441240",
          "status": "completed"
        },
        "tags": [],
        "id": "7591f4d0"
      },
      "source": [
        "## Eval"
      ]
    },
    {
      "cell_type": "code",
      "execution_count": null,
      "id": "efd4f190",
      "metadata": {
        "execution": {
          "iopub.execute_input": "2024-07-18T05:43:12.594396Z",
          "iopub.status.busy": "2024-07-18T05:43:12.593533Z",
          "iopub.status.idle": "2024-07-18T05:43:35.033267Z",
          "shell.execute_reply": "2024-07-18T05:43:35.032245Z"
        },
        "papermill": {
          "duration": 22.822048,
          "end_time": "2024-07-18T05:43:35.035760",
          "exception": false,
          "start_time": "2024-07-18T05:43:12.213712",
          "status": "completed"
        },
        "tags": [],
        "id": "efd4f190",
        "outputId": "81d3572e-3591-440e-9f8a-caabe525187e"
      },
      "outputs": [
        {
          "name": "stdout",
          "output_type": "stream",
          "text": [
            "128/128 [==============================] - 18s 57ms/step\n",
            "              precision    recall  f1-score   support\n",
            "\n",
            "           0     0.9579    0.9506    0.9542       526\n",
            "           1     0.9786    0.9748    0.9767       515\n",
            "           2     0.9333    0.9389    0.9361       507\n",
            "           3     0.9898    0.9959    0.9928       488\n",
            "\n",
            "    accuracy                         0.9646      2036\n",
            "   macro avg     0.9649    0.9650    0.9649      2036\n",
            "weighted avg     0.9646    0.9646    0.9646      2036\n",
            "\n"
          ]
        }
      ],
      "source": [
        "model.load_weights(checkpoint_filepath)\n",
        "\n",
        "prediction = model.predict(test_dataset.batch(batch_size))\n",
        "predict = prediction.argmax(-1).reshape(-1)\n",
        "\n",
        "print(sklearn.metrics.classification_report(test_labels, predict, digits = 4))"
      ]
    },
    {
      "cell_type": "markdown",
      "id": "d667dbf4",
      "metadata": {
        "papermill": {
          "duration": 0.383676,
          "end_time": "2024-07-18T05:43:35.848199",
          "exception": false,
          "start_time": "2024-07-18T05:43:35.464523",
          "status": "completed"
        },
        "tags": [],
        "id": "d667dbf4"
      },
      "source": [
        "# Multi Output"
      ]
    },
    {
      "cell_type": "markdown",
      "id": "51162a40",
      "metadata": {
        "papermill": {
          "duration": 0.38914,
          "end_time": "2024-07-18T05:43:36.619804",
          "exception": false,
          "start_time": "2024-07-18T05:43:36.230664",
          "status": "completed"
        },
        "tags": [],
        "id": "51162a40"
      },
      "source": [
        "## Create Dataset\n",
        "In data_generator, we need return dictional for label, because we have two output (tensorflow auto use signature output_1 and output_2), than we return {'output_1': sentiment, 'output_2': topic}.\n",
        "\n",
        "If you don't want to use output_1, output_2, you can set {'sentiment': sentiment, 'topic': topic}. But you need change:\n",
        "- callback: output_1_accuracy --> sentiment_accuracy, output_2_accuracy --> topic_accuracy\n",
        "- model: return sentiment, topic --> return {'sentiment': sentiment, 'topic': topic}\n",
        "- tf.data.Dataset.from_generator --> output_signature: output_1 --> sentiment, output_2 --> topic\n",
        "- model.compile --> metrics = {'output_1': 'accuracy', 'output_2': 'accuracy'} --> metrics = {'sentiment': 'accuracy', 'topic': 'accuracy'}\n",
        "- Eval:\n",
        "  - predict_sentiment = model.predict(test_dataset.batch(batch_size))[0] --> predict_sentiment = model.predict(test_dataset.batch(batch_size))['sentiment']\n",
        "  - predict_sentiment = model.predict(test_dataset.batch(batch_size))[1] --> predict_sentiment = model.predict(test_dataset.batch(batch_size))['topic']"
      ]
    },
    {
      "cell_type": "code",
      "execution_count": null,
      "id": "fa4230eb",
      "metadata": {
        "execution": {
          "iopub.execute_input": "2024-07-18T05:43:37.459765Z",
          "iopub.status.busy": "2024-07-18T05:43:37.459320Z",
          "iopub.status.idle": "2024-07-18T05:43:37.965068Z",
          "shell.execute_reply": "2024-07-18T05:43:37.964264Z"
        },
        "papermill": {
          "duration": 0.905393,
          "end_time": "2024-07-18T05:43:37.967594",
          "exception": false,
          "start_time": "2024-07-18T05:43:37.062201",
          "status": "completed"
        },
        "tags": [],
        "id": "fa4230eb"
      },
      "outputs": [],
      "source": [
        "train_texts = df_train.sentence.to_list()\n",
        "test_texts = df_test.sentence.to_list()\n",
        "\n",
        "train_encodings = tokenizer(train_texts, truncation=True, padding=True, max_length=128)\n",
        "test_encodings = tokenizer(test_texts, truncation=True, padding=True, max_length=128)"
      ]
    },
    {
      "cell_type": "code",
      "execution_count": null,
      "id": "2d274ce0",
      "metadata": {
        "execution": {
          "iopub.execute_input": "2024-07-18T05:43:38.762837Z",
          "iopub.status.busy": "2024-07-18T05:43:38.762453Z",
          "iopub.status.idle": "2024-07-18T05:43:38.777628Z",
          "shell.execute_reply": "2024-07-18T05:43:38.776581Z"
        },
        "papermill": {
          "duration": 0.421889,
          "end_time": "2024-07-18T05:43:38.779683",
          "exception": false,
          "start_time": "2024-07-18T05:43:38.357794",
          "status": "completed"
        },
        "tags": [],
        "id": "2d274ce0"
      },
      "outputs": [],
      "source": [
        "train_sentiment_labels = df_train.sentiment.apply(lambda x: 0 if x == 'negative' else 1 if x == 'positive' else 2).to_list()\n",
        "test_sentiment_labels = df_test.sentiment.apply(lambda x: 0 if x == 'negative' else 1 if x == 'positive' else 2).to_list()"
      ]
    },
    {
      "cell_type": "code",
      "execution_count": null,
      "id": "0176f29f",
      "metadata": {
        "execution": {
          "iopub.execute_input": "2024-07-18T05:43:39.581117Z",
          "iopub.status.busy": "2024-07-18T05:43:39.580229Z",
          "iopub.status.idle": "2024-07-18T05:43:39.589019Z",
          "shell.execute_reply": "2024-07-18T05:43:39.588126Z"
        },
        "papermill": {
          "duration": 0.409848,
          "end_time": "2024-07-18T05:43:39.590954",
          "exception": false,
          "start_time": "2024-07-18T05:43:39.181106",
          "status": "completed"
        },
        "tags": [],
        "id": "0176f29f"
      },
      "outputs": [],
      "source": [
        "train_topic_labels = df_train.topic.map(TOPIC_MAPPER).to_list()\n",
        "test_topic_labels = df_test.topic.map(TOPIC_MAPPER).to_list()"
      ]
    },
    {
      "cell_type": "code",
      "execution_count": null,
      "id": "b51d24d5",
      "metadata": {
        "execution": {
          "iopub.execute_input": "2024-07-18T05:43:40.430822Z",
          "iopub.status.busy": "2024-07-18T05:43:40.430441Z",
          "iopub.status.idle": "2024-07-18T05:43:40.502230Z",
          "shell.execute_reply": "2024-07-18T05:43:40.501332Z"
        },
        "papermill": {
          "duration": 0.522638,
          "end_time": "2024-07-18T05:43:40.505166",
          "exception": false,
          "start_time": "2024-07-18T05:43:39.982528",
          "status": "completed"
        },
        "tags": [],
        "id": "b51d24d5"
      },
      "outputs": [],
      "source": [
        "def train_data_generator():\n",
        "    for ids, mask, label_sentiment, label_topic in zip(train_encodings.input_ids,\n",
        "                                                       train_encodings.attention_mask,\n",
        "                                                       train_sentiment_labels,\n",
        "                                                       train_topic_labels):\n",
        "        yield (ids, mask), {'output_1': label_sentiment, 'output_2': label_topic}\n",
        "\n",
        "def test_data_generator():\n",
        "    for ids, mask, label_sentiment, label_topic in zip(test_encodings.input_ids,\n",
        "                                test_encodings.attention_mask,\n",
        "                                test_sentiment_labels,\n",
        "                                test_topic_labels):\n",
        "        yield (ids, mask), {'output_1': label_sentiment, 'output_2': label_topic}\n",
        "\n",
        "# Create the dataset from the generator\n",
        "train_dataset = tf.data.Dataset.from_generator(\n",
        "    train_data_generator,\n",
        "    output_signature=(\n",
        "        (tf.TensorSpec(shape=(None,), dtype=tf.int32),\n",
        "         tf.TensorSpec(shape=(None,), dtype=tf.int32)),\n",
        "        {'output_1': tf.TensorSpec(shape=(), dtype=tf.int32),\n",
        "         'output_2': tf.TensorSpec(shape=(), dtype=tf.int32)}\n",
        "    )\n",
        ")\n",
        "\n",
        "test_dataset = tf.data.Dataset.from_generator(\n",
        "    test_data_generator,\n",
        "    output_signature=(\n",
        "        (tf.TensorSpec(shape=(None,), dtype=tf.int32),\n",
        "         tf.TensorSpec(shape=(None,), dtype=tf.int32)),\n",
        "        {'output_1': tf.TensorSpec(shape=(), dtype=tf.int32),\n",
        "         'output_2': tf.TensorSpec(shape=(), dtype=tf.int32)}\n",
        "    )\n",
        ")"
      ]
    },
    {
      "cell_type": "markdown",
      "id": "5d16c578",
      "metadata": {
        "papermill": {
          "duration": 0.387548,
          "end_time": "2024-07-18T05:43:41.286256",
          "exception": false,
          "start_time": "2024-07-18T05:43:40.898708",
          "status": "completed"
        },
        "tags": [],
        "id": "5d16c578"
      },
      "source": [
        "## Create model"
      ]
    },
    {
      "cell_type": "markdown",
      "id": "9e1bf6bb",
      "metadata": {
        "papermill": {
          "duration": 0.392618,
          "end_time": "2024-07-18T05:43:42.072190",
          "exception": false,
          "start_time": "2024-07-18T05:43:41.679572",
          "status": "completed"
        },
        "tags": [],
        "id": "9e1bf6bb"
      },
      "source": [
        "### Create learning rate scheduler"
      ]
    },
    {
      "cell_type": "code",
      "execution_count": null,
      "id": "4e654e40",
      "metadata": {
        "execution": {
          "iopub.execute_input": "2024-07-18T05:43:42.913266Z",
          "iopub.status.busy": "2024-07-18T05:43:42.912865Z",
          "iopub.status.idle": "2024-07-18T05:43:42.922517Z",
          "shell.execute_reply": "2024-07-18T05:43:42.921602Z"
        },
        "papermill": {
          "duration": 0.398804,
          "end_time": "2024-07-18T05:43:42.924581",
          "exception": false,
          "start_time": "2024-07-18T05:43:42.525777",
          "status": "completed"
        },
        "tags": [],
        "id": "4e654e40",
        "outputId": "311cede3-27a4-4e5c-a1d5-faf61d18c26e"
      },
      "outputs": [
        {
          "name": "stdout",
          "output_type": "stream",
          "text": [
            "203 2036\n"
          ]
        }
      ],
      "source": [
        "# Number of warmup steps\n",
        "steps_per_epoch = len(df_train) // batch_size\n",
        "total_steps = steps_per_epoch * epochs\n",
        "num_warmup_steps = min(500, int(0.1 * total_steps))\n",
        "\n",
        "print(num_warmup_steps, total_steps)\n",
        "\n",
        "# lr_schedule = tf.keras.optimizers.schedules.CosineDecay(\n",
        "#     initial_learning_rate=0,\n",
        "#     decay_steps=total_steps - num_warmup_steps + 3,\n",
        "#     alpha=0.0,\n",
        "#     warmup_target=2e-5,\n",
        "#     warmup_steps=num_warmup_steps\n",
        "# )\n",
        "\n",
        "linear_decay = tf.keras.optimizers.schedules.PolynomialDecay(\n",
        "    initial_learning_rate=init_lr,\n",
        "    end_learning_rate=0,\n",
        "    decay_steps=total_steps)\n",
        "\n",
        "warmup_schedule = tfm.optimization.lr_schedule.LinearWarmup(\n",
        "    warmup_learning_rate = 0,\n",
        "    after_warmup_lr_sched = linear_decay,\n",
        "    warmup_steps = num_warmup_steps\n",
        ")"
      ]
    },
    {
      "cell_type": "markdown",
      "id": "ef138fe7",
      "metadata": {
        "papermill": {
          "duration": 0.395517,
          "end_time": "2024-07-18T05:43:43.730345",
          "exception": false,
          "start_time": "2024-07-18T05:43:43.334828",
          "status": "completed"
        },
        "tags": [],
        "id": "ef138fe7"
      },
      "source": [
        "### Create checkpoint callback"
      ]
    },
    {
      "cell_type": "code",
      "execution_count": null,
      "id": "725e3d57",
      "metadata": {
        "execution": {
          "iopub.execute_input": "2024-07-18T05:43:44.511405Z",
          "iopub.status.busy": "2024-07-18T05:43:44.510776Z",
          "iopub.status.idle": "2024-07-18T05:43:44.516734Z",
          "shell.execute_reply": "2024-07-18T05:43:44.515701Z"
        },
        "papermill": {
          "duration": 0.399545,
          "end_time": "2024-07-18T05:43:44.518804",
          "exception": false,
          "start_time": "2024-07-18T05:43:44.119259",
          "status": "completed"
        },
        "tags": [],
        "id": "725e3d57"
      },
      "outputs": [],
      "source": [
        "checkpoint_sentiment_filepath = '/kaggle/working/model_sentiment'\n",
        "model_checkpoint_sentiment_callback = tf.keras.callbacks.ModelCheckpoint(\n",
        "    filepath=checkpoint_sentiment_filepath,\n",
        "    save_best_only=True,\n",
        "    monitor='val_output_1_accuracy',\n",
        "    mode='max',\n",
        "    verbose=1\n",
        ")\n",
        "\n",
        "checkpoint_topic_filepath = '/kaggle/working/model_topic'\n",
        "model_checkpoint_topic_callback = tf.keras.callbacks.ModelCheckpoint(\n",
        "    filepath=checkpoint_topic_filepath,\n",
        "    save_best_only=True,\n",
        "    monitor='val_output_2_accuracy',\n",
        "    mode='max',\n",
        "    verbose=1\n",
        ")"
      ]
    },
    {
      "cell_type": "markdown",
      "id": "06d95f6a",
      "metadata": {
        "papermill": {
          "duration": 0.443348,
          "end_time": "2024-07-18T05:43:45.349153",
          "exception": false,
          "start_time": "2024-07-18T05:43:44.905805",
          "status": "completed"
        },
        "tags": [],
        "id": "06d95f6a"
      },
      "source": [
        "### Create model\n",
        "In model.compile, we need set loss, loss_weights and metrics for each output."
      ]
    },
    {
      "cell_type": "code",
      "execution_count": null,
      "id": "a7255424",
      "metadata": {
        "execution": {
          "iopub.execute_input": "2024-07-18T05:43:46.122363Z",
          "iopub.status.busy": "2024-07-18T05:43:46.121447Z",
          "iopub.status.idle": "2024-07-18T05:43:46.134018Z",
          "shell.execute_reply": "2024-07-18T05:43:46.133029Z"
        },
        "papermill": {
          "duration": 0.40345,
          "end_time": "2024-07-18T05:43:46.136108",
          "exception": false,
          "start_time": "2024-07-18T05:43:45.732658",
          "status": "completed"
        },
        "tags": [],
        "id": "a7255424"
      },
      "outputs": [],
      "source": [
        "class custom_model(tf.keras.Model):\n",
        "    def __init__(self):\n",
        "        super().__init__()\n",
        "        self.base_model = TFAutoModel.from_pretrained('intfloat/multilingual-e5-base')\n",
        "        self.dropout = layers.Dropout(0.3)\n",
        "        self.attention = AttnHead(768, 768) #384 for small\n",
        "        self.sentiment = layers.Dense(3, name = 'sentiment')\n",
        "        self.topic = layers.Dense(4, name = 'topic')\n",
        "\n",
        "    def call(self, inputs):\n",
        "        input_ids, attention_mask = inputs\n",
        "        x = self.base_model(input_ids, attention_mask).last_hidden_state\n",
        "        x = self.attention(x)\n",
        "        x = self.dropout(x)\n",
        "        sentiment = self.sentiment(x)\n",
        "        topic = self.topic(x)\n",
        "        return sentiment, topic\n",
        "\n",
        "class AttnHead(tf.keras.layers.Layer):\n",
        "    def __init__(self, hidden_dim, output_dim):\n",
        "        super(AttnHead, self).__init__()\n",
        "        self.linear_1 = layers.Dense(output_dim, activation='linear')\n",
        "        self.linear_2 = layers.Dense(1, activation='linear')\n",
        "\n",
        "    def call(self, last_hidden_states):\n",
        "        linear_1_output = self.linear_1(last_hidden_states)\n",
        "        activation = tf.nn.tanh(linear_1_output)\n",
        "        score = self.linear_2(activation)\n",
        "        weights = tf.nn.softmax(score, axis=1)\n",
        "        output = tf.reduce_sum(weights * last_hidden_states, axis=1)\n",
        "\n",
        "        return output"
      ]
    },
    {
      "cell_type": "code",
      "execution_count": null,
      "id": "bff646dd",
      "metadata": {
        "execution": {
          "iopub.execute_input": "2024-07-18T05:43:46.919931Z",
          "iopub.status.busy": "2024-07-18T05:43:46.919055Z",
          "iopub.status.idle": "2024-07-18T05:43:50.043568Z",
          "shell.execute_reply": "2024-07-18T05:43:50.042773Z"
        },
        "papermill": {
          "duration": 3.524191,
          "end_time": "2024-07-18T05:43:50.045813",
          "exception": false,
          "start_time": "2024-07-18T05:43:46.521622",
          "status": "completed"
        },
        "tags": [],
        "id": "bff646dd",
        "outputId": "c84dc1ad-e38f-4c3e-fdfa-7853368b5da6"
      },
      "outputs": [
        {
          "name": "stdout",
          "output_type": "stream",
          "text": [
            "Number of devices: 1\n"
          ]
        },
        {
          "name": "stderr",
          "output_type": "stream",
          "text": [
            "Some weights of the PyTorch model were not used when initializing the TF 2.0 model TFXLMRobertaModel: ['embeddings.position_ids']\n",
            "- This IS expected if you are initializing TFXLMRobertaModel from a PyTorch model trained on another task or with another architecture (e.g. initializing a TFBertForSequenceClassification model from a BertForPreTraining model).\n",
            "- This IS NOT expected if you are initializing TFXLMRobertaModel from a PyTorch model that you expect to be exactly identical (e.g. initializing a TFBertForSequenceClassification model from a BertForSequenceClassification model).\n",
            "All the weights of TFXLMRobertaModel were initialized from the PyTorch model.\n",
            "If your task is similar to the task the model of the checkpoint was trained on, you can already use TFXLMRobertaModel for predictions without further training.\n"
          ]
        }
      ],
      "source": [
        "# Create a MirroredStrategy.\n",
        "strategy = tf.distribute.MirroredStrategy()\n",
        "print('Number of devices: {}'.format(strategy.num_replicas_in_sync))\n",
        "\n",
        "# Open a strategy scope.\n",
        "with strategy.scope():\n",
        "  model = custom_model()\n",
        "  model.compile(\n",
        "    optimizer = tf.keras.optimizers.AdamW(learning_rate=warmup_schedule, weight_decay=1e-2),\n",
        "    #optimizer=tf.keras.optimizers.Adam(learning_rate=lr_schedule),\n",
        "    loss = [tf.keras.losses.SparseCategoricalCrossentropy(from_logits=True),\n",
        "                tf.keras.losses.SparseCategoricalCrossentropy(from_logits=True)\n",
        "           ],\n",
        "    loss_weights = [1, 0.5],\n",
        "    metrics = {'output_1': 'accuracy', 'output_2': 'accuracy'}\n",
        ")"
      ]
    },
    {
      "cell_type": "markdown",
      "id": "fd5aab5a",
      "metadata": {
        "papermill": {
          "duration": 0.382085,
          "end_time": "2024-07-18T05:43:50.813105",
          "exception": false,
          "start_time": "2024-07-18T05:43:50.431020",
          "status": "completed"
        },
        "tags": [],
        "id": "fd5aab5a"
      },
      "source": [
        "## Train model"
      ]
    },
    {
      "cell_type": "code",
      "execution_count": null,
      "id": "dc973f54",
      "metadata": {
        "execution": {
          "iopub.execute_input": "2024-07-18T05:43:51.636965Z",
          "iopub.status.busy": "2024-07-18T05:43:51.635959Z",
          "iopub.status.idle": "2024-07-18T06:02:46.223950Z",
          "shell.execute_reply": "2024-07-18T06:02:46.222999Z"
        },
        "papermill": {
          "duration": 1135.522021,
          "end_time": "2024-07-18T06:02:46.767518",
          "exception": false,
          "start_time": "2024-07-18T05:43:51.245497",
          "status": "completed"
        },
        "tags": [],
        "id": "dc973f54",
        "outputId": "cc0717f3-5b28-4a32-af47-8f736ad46af2"
      },
      "outputs": [
        {
          "name": "stdout",
          "output_type": "stream",
          "text": [
            "Epoch 1/4\n",
            "    509/Unknown - 162s 182ms/step - loss: 0.7939 - output_1_loss: 0.5552 - output_2_loss: 0.4774 - output_1_accuracy: 0.7419 - output_2_accuracy: 0.8088\n",
            "Epoch 1: val_output_1_accuracy improved from -inf to 0.85756, saving model to /kaggle/working/model_sentiment\n",
            "\n",
            "Epoch 1: val_output_2_accuracy improved from -inf to 0.94941, saving model to /kaggle/working/model_topic\n",
            "509/509 [==============================] - 392s 635ms/step - loss: 0.7939 - output_1_loss: 0.5552 - output_2_loss: 0.4774 - output_1_accuracy: 0.7419 - output_2_accuracy: 0.8088 - val_loss: 0.3871 - val_output_1_loss: 0.3162 - val_output_2_loss: 0.1418 - val_output_1_accuracy: 0.8576 - val_output_2_accuracy: 0.9494\n",
            "Epoch 2/4\n",
            "509/509 [==============================] - ETA: 0s - loss: 0.3441 - output_1_loss: 0.2842 - output_2_loss: 0.1198 - output_1_accuracy: 0.8697 - output_2_accuracy: 0.9628\n",
            "Epoch 2: val_output_1_accuracy improved from 0.85756 to 0.87230, saving model to /kaggle/working/model_sentiment\n",
            "\n",
            "Epoch 2: val_output_2_accuracy improved from 0.94941 to 0.96120, saving model to /kaggle/working/model_topic\n",
            "509/509 [==============================] - 324s 631ms/step - loss: 0.3441 - output_1_loss: 0.2842 - output_2_loss: 0.1198 - output_1_accuracy: 0.8697 - output_2_accuracy: 0.9628 - val_loss: 0.3503 - val_output_1_loss: 0.2878 - val_output_2_loss: 0.1250 - val_output_1_accuracy: 0.8723 - val_output_2_accuracy: 0.9612\n",
            "Epoch 3/4\n",
            "509/509 [==============================] - ETA: 0s - loss: 0.2344 - output_1_loss: 0.1976 - output_2_loss: 0.0737 - output_1_accuracy: 0.9078 - output_2_accuracy: 0.9752\n",
            "Epoch 3: val_output_1_accuracy improved from 0.87230 to 0.89342, saving model to /kaggle/working/model_sentiment\n",
            "\n",
            "Epoch 3: val_output_2_accuracy did not improve from 0.96120\n",
            "509/509 [==============================] - 214s 416ms/step - loss: 0.2344 - output_1_loss: 0.1976 - output_2_loss: 0.0737 - output_1_accuracy: 0.9078 - output_2_accuracy: 0.9752 - val_loss: 0.3213 - val_output_1_loss: 0.2587 - val_output_2_loss: 0.1252 - val_output_1_accuracy: 0.8934 - val_output_2_accuracy: 0.9533\n",
            "Epoch 4/4\n",
            "509/509 [==============================] - ETA: 0s - loss: 0.1471 - output_1_loss: 0.1253 - output_2_loss: 0.0437 - output_1_accuracy: 0.9462 - output_2_accuracy: 0.9859\n",
            "Epoch 4: val_output_1_accuracy improved from 0.89342 to 0.90275, saving model to /kaggle/working/model_sentiment\n",
            "\n",
            "Epoch 4: val_output_2_accuracy did not improve from 0.96120\n",
            "509/509 [==============================] - 204s 395ms/step - loss: 0.1471 - output_1_loss: 0.1253 - output_2_loss: 0.0437 - output_1_accuracy: 0.9462 - output_2_accuracy: 0.9859 - val_loss: 0.3216 - val_output_1_loss: 0.2597 - val_output_2_loss: 0.1239 - val_output_1_accuracy: 0.9028 - val_output_2_accuracy: 0.9602\n"
          ]
        },
        {
          "data": {
            "text/plain": [
              "<keras.src.callbacks.History at 0x781a3f8bdde0>"
            ]
          },
          "execution_count": 42,
          "metadata": {},
          "output_type": "execute_result"
        }
      ],
      "source": [
        "# Train the model\n",
        "model.fit(\n",
        "    train_dataset.shuffle(len(df_train)).batch(batch_size),\n",
        "    epochs=epochs,\n",
        "    batch_size=batch_size,\n",
        "    validation_data=test_dataset.batch(batch_size),\n",
        "    callbacks=[model_checkpoint_sentiment_callback, model_checkpoint_topic_callback]\n",
        ")"
      ]
    },
    {
      "cell_type": "markdown",
      "id": "a61d5ecf",
      "metadata": {
        "papermill": {
          "duration": 11.628196,
          "end_time": "2024-07-18T06:02:58.955959",
          "exception": false,
          "start_time": "2024-07-18T06:02:47.327763",
          "status": "completed"
        },
        "tags": [],
        "id": "a61d5ecf"
      },
      "source": [
        "## Eval\n",
        "Because model return two outputs (return sentiment, topic). function model.predict will return tupple with first element is sentiment predict tensor and second element is topic predict tensor\n",
        "\n",
        "If use return {'sentiment': sentiment, 'topic': topic} in model, model.predict will return dictionary {'sentiment': sentiment predict tensor, 'topic': topic topic tensor}, then you need replace [0] with ['sentiment'] and [1] with ['topic']"
      ]
    },
    {
      "cell_type": "code",
      "execution_count": null,
      "id": "3ab071f7",
      "metadata": {
        "execution": {
          "iopub.execute_input": "2024-07-18T06:03:00.123549Z",
          "iopub.status.busy": "2024-07-18T06:03:00.122672Z",
          "iopub.status.idle": "2024-07-18T06:03:21.069140Z",
          "shell.execute_reply": "2024-07-18T06:03:21.068261Z"
        },
        "papermill": {
          "duration": 21.50326,
          "end_time": "2024-07-18T06:03:21.071542",
          "exception": false,
          "start_time": "2024-07-18T06:02:59.568282",
          "status": "completed"
        },
        "tags": [],
        "id": "3ab071f7",
        "outputId": "481b1f8e-3f7e-45c2-8043-04504267f196"
      },
      "outputs": [
        {
          "name": "stdout",
          "output_type": "stream",
          "text": [
            "128/128 [==============================] - 18s 57ms/step\n",
            "              precision    recall  f1-score   support\n",
            "\n",
            "           0     0.9840    0.9840    0.9840       686\n",
            "           1     0.8625    0.8765    0.8694       680\n",
            "           2     0.8604    0.8463    0.8533       670\n",
            "\n",
            "    accuracy                         0.9028      2036\n",
            "   macro avg     0.9023    0.9022    0.9022      2036\n",
            "weighted avg     0.9027    0.9028    0.9027      2036\n",
            "\n"
          ]
        }
      ],
      "source": [
        "model.load_weights(checkpoint_sentiment_filepath)\n",
        "\n",
        "predict_sentiment = model.predict(test_dataset.batch(batch_size))[0]\n",
        "predict_sentiment = predict_sentiment.argmax(-1).reshape(-1)\n",
        "\n",
        "print(sklearn.metrics.classification_report(test_sentiment_labels, predict_sentiment, digits = 4))"
      ]
    },
    {
      "cell_type": "code",
      "execution_count": null,
      "id": "60ec47f5",
      "metadata": {
        "execution": {
          "iopub.execute_input": "2024-07-18T06:03:22.240499Z",
          "iopub.status.busy": "2024-07-18T06:03:22.239726Z",
          "iopub.status.idle": "2024-07-18T06:03:33.621854Z",
          "shell.execute_reply": "2024-07-18T06:03:33.620796Z"
        },
        "papermill": {
          "duration": 11.970646,
          "end_time": "2024-07-18T06:03:33.624183",
          "exception": false,
          "start_time": "2024-07-18T06:03:21.653537",
          "status": "completed"
        },
        "tags": [],
        "id": "60ec47f5",
        "outputId": "994bd5c0-b3c2-4ff8-8319-e0094cb36efd"
      },
      "outputs": [
        {
          "name": "stdout",
          "output_type": "stream",
          "text": [
            "128/128 [==============================] - 7s 57ms/step\n",
            "              precision    recall  f1-score   support\n",
            "\n",
            "           0     0.9308    0.9715    0.9507       526\n",
            "           1     0.9748    0.9748    0.9748       515\n",
            "           2     0.9545    0.9112    0.9324       507\n",
            "           3     0.9877    0.9877    0.9877       488\n",
            "\n",
            "    accuracy                         0.9612      2036\n",
            "   macro avg     0.9619    0.9613    0.9614      2036\n",
            "weighted avg     0.9615    0.9612    0.9611      2036\n",
            "\n"
          ]
        }
      ],
      "source": [
        "model.load_weights(checkpoint_topic_filepath)\n",
        "\n",
        "predict_topic = model.predict(test_dataset.batch(batch_size))[1]\n",
        "predict_topic = predict_topic.argmax(-1).reshape(-1)\n",
        "\n",
        "print(sklearn.metrics.classification_report(test_topic_labels, predict_topic, digits = 4))"
      ]
    },
    {
      "cell_type": "code",
      "execution_count": null,
      "id": "729836bd",
      "metadata": {
        "papermill": {
          "duration": 0.570276,
          "end_time": "2024-07-18T06:03:34.832142",
          "exception": false,
          "start_time": "2024-07-18T06:03:34.261866",
          "status": "completed"
        },
        "tags": [],
        "id": "729836bd"
      },
      "outputs": [],
      "source": []
    }
  ],
  "metadata": {
    "kaggle": {
      "accelerator": "gpu",
      "dataSources": [
        {
          "datasetId": 3052448,
          "sourceId": 5245967,
          "sourceType": "datasetVersion"
        }
      ],
      "dockerImageVersionId": 30747,
      "isGpuEnabled": true,
      "isInternetEnabled": true,
      "language": "python",
      "sourceType": "notebook"
    },
    "kernelspec": {
      "display_name": "Python 3",
      "language": "python",
      "name": "python3"
    },
    "language_info": {
      "codemirror_mode": {
        "name": "ipython",
        "version": 3
      },
      "file_extension": ".py",
      "mimetype": "text/x-python",
      "name": "python",
      "nbconvert_exporter": "python",
      "pygments_lexer": "ipython3",
      "version": "3.10.13"
    },
    "papermill": {
      "default_parameters": {},
      "duration": 3176.714236,
      "end_time": "2024-07-18T06:03:38.647956",
      "environment_variables": {},
      "exception": null,
      "input_path": "__notebook__.ipynb",
      "output_path": "__notebook__.ipynb",
      "parameters": {},
      "start_time": "2024-07-18T05:10:41.933720",
      "version": "2.5.0"
    },
    "widgets": {
      "application/vnd.jupyter.widget-state+json": {}
    },
    "colab": {
      "provenance": [],
      "toc_visible": true
    }
  },
  "nbformat": 4,
  "nbformat_minor": 5
}